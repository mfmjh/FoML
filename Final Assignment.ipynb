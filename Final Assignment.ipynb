{
 "cells": [
  {
   "cell_type": "markdown",
   "metadata": {},
   "source": [
    "# \"Hello, it is your political orientation I'm looking for\"\n",
    "## *Can you detect political orientation in Tweets?*"
   ]
  },
  {
   "cell_type": "markdown",
   "metadata": {},
   "source": [
    "## Introduction\n",
    "\n",
    "Over the past decade, the rise of Twitter as a means for politicians to connect with and mobilize voters remained irreversible. With, as a recent high- or low point, the permanent ban of former president Donald Trump \"due to the risk of further incitement of violence\". \n",
    "\n",
    "Political analysis with Twitter data shows Twitters' use as \"an outlet for propagating political ideologies, exerting influence, generating political polarisation or classifying\" (Gruzd & Roy, 2014, p. 28).  With the sharing of opinions and news related to politics or supported causes, cues about political orientation are offered  (Preoţiuc-Pietro et al., 2017, p. 729).\n",
    "\n",
    "This notebook aims to explore the extent to which the political orientation can be detected in Dutch politicians' Tweets, focusing on the 13 party leaders of the parties currently in the Tweede Kamer, using the Naïve Bayes algorithm.\n"
   ]
  },
  {
   "cell_type": "markdown",
   "metadata": {},
   "source": [
    "To start off we will import all liberaries we are going to use in this notebook."
   ]
  },
  {
   "cell_type": "code",
   "execution_count": 1,
   "metadata": {},
   "outputs": [],
   "source": [
    "import pandas as pd # to create dataframes\n",
    "import glob # to retrieve all csv files from a directionary\n",
    "from datetime import datetime # to handle datetime stamps\n",
    "import seaborn as sns # to plot figures\n",
    "import matplotlib.pyplot as plt # to plot figures\n",
    "import numpy as np # to generate matrices and arrays\n",
    "import emoji # emoji liberary \n",
    "import re # to clean the text of the tweets\n",
    "from nltk.corpus import stopwords # to remove stopword\n",
    "from collections import Counter # to count attributes\n",
    "from sklearn.feature_extraction.text import CountVectorizer # to produce a bag of words\n",
    "from sklearn.model_selection import train_test_split # produce a training and a test set from out data\n",
    "from sklearn.naive_bayes import MultinomialNB # imports the model\n",
    "from sklearn.metrics import confusion_matrix # creates a confusion matrix"
   ]
  },
  {
   "cell_type": "markdown",
   "metadata": {},
   "source": [
    "## Retrieve the Data"
   ]
  },
  {
   "cell_type": "markdown",
   "metadata": {},
   "source": [
    "First, we will retrieve the data by scraping all Tweets from all 13 Dutch party leaders currently in the Tweede Kamer. We will retrieve Tweets from (name, Twitter handle, party ): <sup></sup>\n",
    "\n",
    "- Mark Rutte | @MinPres | VVD\n",
    "- Geert Wilders | @geertwilderspvv | PVV\n",
    "- Wopke Hoekstra | @WBHoekstra | CDA\n",
    "- Sigrid Kaag | @SigridKaag | D66\n",
    "- Jesse Klaver| @jesseklaver | GL\n",
    "- Lilian Marijnissen | @MarijnissenL | SP\n",
    "- Lodewijk Asscher <sup>1</sup>| @LodewijkA | PVDA\n",
    "- Gert-Jan Segers | @gertjansegers | CU\n",
    "- Esther Ouwehand | @estherouwehand | PVDD\n",
    "- Liane den Haan | @LianedenHaan | 50PLUS\n",
    "- Kees van der Staaij | @keesvdstaaij | SGP \n",
    "- Farid Azarkan | @F_azarkan | DENK\n",
    "- Thierry Baudet | @thierrybaudet | FVD\n",
    "\n",
    "To do so, we use Tweepy, a Python library for accessing the Twitter API. After creating a Twitter Developer Account and App, we can get to work. Tweepy offers a lot of variables to import. Because we will mainly focus on text analysis we've made the following pre-selection of variables to import:\n",
    "\n",
    "- User_name: the name of the user\n",
    "- Timestamp: UTC time when the Tweet was created\n",
    "- Text: the Tweet\n",
    "- Is_quote_status: indicates whether this is a quoted Tweet.\n",
    "- Retweet_count: number of times the Tweet has been retweeted.\n",
    "- Favorite_count: the amount of times the Tweet has been liked by Twitter users\n",
    "\n",
    "\n",
    "<sup>1</sup> A few days after collecting the data, Lodewijk Asscher stepped down as party leader. Since he was party leader for over five years, we did decide to use his Tweets as a representation of the PVDA. "
   ]
  },
  {
   "cell_type": "code",
   "execution_count": 2,
   "metadata": {},
   "outputs": [],
   "source": [
    "# import tweepy\n",
    "\n",
    "# consumer_key = \"xxx\"\n",
    "# consumer_secret = \"xxx\"\n",
    "\n",
    "# access_token = \"xxx\"\n",
    "# access_token_secret = \"xxx\"\n",
    "\n",
    "# auth = tweepy.OAuthHandler(consumer_key, consumer_secret)\n",
    "# auth.set_access_token(access_token, access_token_secret)\n",
    "\n",
    "# api = tweepy.API(auth)"
   ]
  },
  {
   "cell_type": "code",
   "execution_count": 3,
   "metadata": {},
   "outputs": [],
   "source": [
    "# username = \"name_partyleader\"\n",
    "   \n",
    "# Creation of query method using parameters\n",
    "# tweets = tweepy.Cursor(api.user_timeline,id=username, tweet_mode='extended').items()\n",
    " \n",
    "# Pulling information from tweets iterable object\n",
    "# tweets_list = [[tweet.user.name, tweet.created_at, tweet.full_text, tweet.is_quote_status, tweet.retweet_count, tweet.favorite_count] for tweet in tweets]\n",
    "\n",
    "# Creation of dataframe from tweets list\n",
    "# tweets_df = pd.DataFrame(tweets_list)\n",
    "\n",
    "# tweets_df.columns = [\"name\", \"timestamp\",\"text\",\"quoted tweet\",\"retweet count\",\"favorite count\"]\n",
    "\n",
    "# tweets_df['party']=\"name_party\"\n",
    "\n",
    "# tweets_df.to_csv(\"name_partyleader.csv\")"
   ]
  },
  {
   "cell_type": "markdown",
   "metadata": {},
   "source": [
    "In order to create our final dataset we will combine all the Tweet data per user in one dataframe. "
   ]
  },
  {
   "cell_type": "code",
   "execution_count": 4,
   "metadata": {},
   "outputs": [],
   "source": [
    "folder = \".../Studie/final assignment/tweets\" # directory where tweets are saved\n",
    "path = folder+\"/**/*.csv\" \n",
    "\n",
    "# retrieve files\n",
    "csv_paths = glob.glob(path, recursive=True) \n",
    "dfs = [pd.read_csv(csv_path) for csv_path in csv_paths]\n",
    "\n",
    "# combine files in one dataframe\n",
    "df = pd.concat(dfs) "
   ]
  },
  {
   "cell_type": "markdown",
   "metadata": {},
   "source": [
    "## Pre-processing the Data"
   ]
  },
  {
   "cell_type": "markdown",
   "metadata": {},
   "source": [
    "Since we will focus on words for our analysis, we will strip the tweets of special characters, emojis and URLs. Although the characters # and @ are used a lot, we removed these but preserved the associated text as part of the corpora we are about to classify. "
   ]
  },
  {
   "cell_type": "code",
   "execution_count": 5,
   "metadata": {},
   "outputs": [],
   "source": [
    "# clean the tweets using Regular expressions (to specify the rules for the set of possible strings)\n",
    "\n",
    "def clean(text):\n",
    "    # Remove mentions\n",
    "    txt = re.sub(r\"@[A-Za-z0-9_]+\", \"\", text)\n",
    "    \n",
    "    # Remove hashtags\n",
    "    text = re.sub(r\"#\", \"\", txt)\n",
    "    \n",
    "    # Remove retweets:\n",
    "    text = re.sub(r\"RT : \", \"\", text)\n",
    "    \n",
    "    # Remove urls\n",
    "    text = re.sub(r\"https?:\\/\\/[A-Za-z0-9\\.\\/]+\", \"\", text)\n",
    "    \n",
    "    # Remove numbers from string\n",
    "    text = re.sub(r\"[0-9]\", \"\", text)\n",
    "    \n",
    "    # Remove non latin characters\n",
    "    text = re.sub(r\"[^\\x00-\\x7F\\x80-\\xFF\\u0100-\\u017F\\u0180-\\u024F\\u1E00-\\u1EFF]\", u\"\", text)\n",
    "    \n",
    "    return text\n",
    "\n",
    "# apply function to column\n",
    "df[\"clean text\"] = df[\"text\"].apply(clean)"
   ]
  },
  {
   "cell_type": "markdown",
   "metadata": {},
   "source": [
    "## Feature engeneering"
   ]
  },
  {
   "cell_type": "markdown",
   "metadata": {},
   "source": [
    "Although we will focus mainly on words for our classification, the Tweets do contain other specific characteristics that could variate strongly between different people and therefore between different political orientations.  \n",
    "\n",
    "The following information is derived from the original Tweets. These features can be used to contribute to the models' predictive power. \n",
    "\n",
    "- Word count: the number of words used in a Tweet\n",
    "\n",
    "- Retweet: whether the Tweet a retweet of another user\n",
    "\n",
    "- Emoji count: the amount of emojis used\n",
    "\n",
    "- Hashtags and hashtag count: Used hashtags and the number of hashtags used. A hashtag groups tweets creating connections between topics.\n",
    "\n",
    "- Mentions: the number of mentions. A mention is addressed the Tweet to specific users."
   ]
  },
  {
   "cell_type": "code",
   "execution_count": 6,
   "metadata": {},
   "outputs": [],
   "source": [
    "# Split the datetime column into date and time\n",
    "\n",
    "df[\"date_time\"] = df[\"timestamp\"].astype(str)\n",
    "df[\"date_time\"] = df[\"date_time\"].apply(pd.to_datetime)\n",
    "df[\"date\"] = df[\"date_time\"].dt.date\n",
    "df[\"time\"] = df[\"date_time\"].dt.time"
   ]
  },
  {
   "cell_type": "code",
   "execution_count": 7,
   "metadata": {},
   "outputs": [],
   "source": [
    "# Function to count word per tweet\n",
    "\n",
    "def word_count(string):\n",
    "    return(len(re.findall(r'\\w+', string))) \n",
    "\n",
    "# Apply function to column to create new column\n",
    "df[\"word count\"] = df[\"clean text\"].apply(word_count)"
   ]
  },
  {
   "cell_type": "code",
   "execution_count": 8,
   "metadata": {},
   "outputs": [],
   "source": [
    "# Assign true/false if tweet is retweet or not and create new column\n",
    "df['retweet'] = df['text'].str.contains('RT')"
   ]
  },
  {
   "cell_type": "code",
   "execution_count": 9,
   "metadata": {},
   "outputs": [],
   "source": [
    "# Count emojis\n",
    "\n",
    "# Checks if character combination is an emoji\n",
    "def emoji_count(character):\n",
    "    return character in emoji.UNICODE_EMOJI\n",
    "\n",
    "# Function to count emojis\n",
    "def emoji_counter(text):\n",
    "    count = 0\n",
    "    for character in text:\n",
    "        x = emoji_count(character)\n",
    "        if x == True:\n",
    "            count += 1\n",
    "    return count\n",
    "\n",
    "# Apply function to column to create new column\n",
    "df[\"emoji count\"] = df[\"text\"].apply(emoji_counter) "
   ]
  },
  {
   "cell_type": "code",
   "execution_count": 10,
   "metadata": {},
   "outputs": [],
   "source": [
    "# Function to count hashtags\n",
    "\n",
    "def hashtag_count(row, hashtag):\n",
    "    count = row.count(hashtag)\n",
    "    return count\n",
    "\n",
    "# # Apply function to column to create new column\n",
    "df[\"hashtag count\"]= df[\"text\"].apply(lambda row: hashtag_count(row,\"#\")) "
   ]
  },
  {
   "cell_type": "code",
   "execution_count": 11,
   "metadata": {},
   "outputs": [],
   "source": [
    "# Function to extract hashtags\n",
    "\n",
    "def find_hashtags(tweet):\n",
    "    return re.findall('(#[A-Za-z]+[A-Za-z0-9-_]+)', tweet)   \n",
    "\n",
    "# Apply function to column to create new column\n",
    "df['hashtags'] = df[\"text\"].apply(find_hashtags) "
   ]
  },
  {
   "cell_type": "code",
   "execution_count": 12,
   "metadata": {},
   "outputs": [],
   "source": [
    "# Function to count mentions\n",
    "\n",
    "def mention_count(row, mention):\n",
    "    count = row.count(mention)\n",
    "    return count\n",
    "\n",
    "# Apply function to column to create new column\n",
    "df[\"mention count\"]= df[\"text\"].apply(lambda row: mention_count(row,\"@\")) "
   ]
  },
  {
   "cell_type": "markdown",
   "metadata": {},
   "source": [
    "### Assign political orientation"
   ]
  },
  {
   "cell_type": "markdown",
   "metadata": {},
   "source": [
    "To assign the political orientation and therefore to classify the Tweets from either far left (-2) in the Dutch political landscape to the far right (+2), we have consulted Kieskompas. Kieskompas is an independent research organization that maps the Dutch political landscape. FvD is not on the Kieskompas. We have classified this party as being at the right of the spectrum.\n",
    "\n",
    "The available data stems from 2017, the year in which the last Dutch elections were. Unfortunately, the Kieskompas for upcoming elections in March 2021 is not yet released.  Tom Etienne, researcher at Kieskompas, did give some remarks regarding the forthcoming Kieskompas: \"We see a slight shift to the left, but also that some left-progressive parties are moving more to the centre. The right remains well-populated\".\n",
    "\n",
    "The image below shows the Kieskompas and the classification of the parties based on their position on the map."
   ]
  },
  {
   "attachments": {
    "indeling_kieskompas.png": {
     "image/png": "[encoded data removed]"
    }
   },
   "cell_type": "markdown",
   "metadata": {},
   "source": [
    "![indeling_kieskompas.png](attachment:indeling_kieskompas.png)"
   ]
  },
  {
   "cell_type": "code",
   "execution_count": 13,
   "metadata": {},
   "outputs": [],
   "source": [
    "# Assign political orientation\n",
    "\n",
    "orientation = [] \n",
    "\n",
    "# Dictionaries with orientation and parties\n",
    "\n",
    "left2 = {\"SP\", \"PvdD\"}\n",
    "left1 = {\"50PLUS\", \"Denk\", \"GL\", \"PVDA\"}\n",
    "center = {\"CU\", \"D66\", \"CDA\"}\n",
    "right1 = {\"PVV\", \"SGP\"}\n",
    "right2 = {\"VVD\", \"FvD\"}\n",
    "\n",
    "# Function to assign orientation\n",
    "\n",
    "for value in df[\"party\"]: \n",
    "    if value in left2:\n",
    "        orientation.append(-2)\n",
    "    elif value in left1:\n",
    "        orientation.append(-1)\n",
    "    elif value in center:\n",
    "        orientation.append(-0)\n",
    "    elif value in right1:\n",
    "        orientation.append(1)\n",
    "    elif value in right2:\n",
    "        orientation.append(2)\n",
    "    else: \n",
    "        orientation.append(\"cannot find party\") \n",
    "       \n",
    "df[\"orientation\"] = orientation"
   ]
  },
  {
   "cell_type": "code",
   "execution_count": 14,
   "metadata": {},
   "outputs": [],
   "source": [
    "df[\"orientation\"] = df[\"orientation\"].astype(int)"
   ]
  },
  {
   "cell_type": "code",
   "execution_count": 15,
   "metadata": {},
   "outputs": [
    {
     "data": {
      "text/html": [
       "<div>\n",
       "<style scoped>\n",
       "    .dataframe tbody tr th:only-of-type {\n",
       "        vertical-align: middle;\n",
       "    }\n",
       "\n",
       "    .dataframe tbody tr th {\n",
       "        vertical-align: top;\n",
       "    }\n",
       "\n",
       "    .dataframe thead th {\n",
       "        text-align: right;\n",
       "    }\n",
       "</style>\n",
       "<table border=\"1\" class=\"dataframe\">\n",
       "  <thead>\n",
       "    <tr style=\"text-align: right;\">\n",
       "      <th></th>\n",
       "      <th>name</th>\n",
       "      <th>party</th>\n",
       "      <th>orientation</th>\n",
       "      <th>date</th>\n",
       "      <th>time</th>\n",
       "      <th>text</th>\n",
       "      <th>hashtags</th>\n",
       "      <th>clean text</th>\n",
       "      <th>quoted tweet</th>\n",
       "      <th>retweet</th>\n",
       "      <th>word count</th>\n",
       "      <th>retweet count</th>\n",
       "      <th>favorite count</th>\n",
       "      <th>emoji count</th>\n",
       "      <th>hashtag count</th>\n",
       "      <th>mention count</th>\n",
       "    </tr>\n",
       "  </thead>\n",
       "  <tbody>\n",
       "    <tr>\n",
       "      <th>0</th>\n",
       "      <td>Kees van der Staaij</td>\n",
       "      <td>SGP</td>\n",
       "      <td>1</td>\n",
       "      <td>2021-01-16</td>\n",
       "      <td>10:20:38</td>\n",
       "      <td>Namens @SGPnieuws feliciteer ik het @Hoornbeec...</td>\n",
       "      <td>[#ROC]</td>\n",
       "      <td>Namens  feliciteer ik het  van harte! Wat mooi...</td>\n",
       "      <td>False</td>\n",
       "      <td>False</td>\n",
       "      <td>26</td>\n",
       "      <td>17</td>\n",
       "      <td>82</td>\n",
       "      <td>0</td>\n",
       "      <td>1</td>\n",
       "      <td>2</td>\n",
       "    </tr>\n",
       "    <tr>\n",
       "      <th>1</th>\n",
       "      <td>Kees van der Staaij</td>\n",
       "      <td>SGP</td>\n",
       "      <td>1</td>\n",
       "      <td>2021-01-16</td>\n",
       "      <td>09:01:46</td>\n",
       "      <td>RT @SGPnieuws: 'Ik hoop dat er zo lang mogelij...</td>\n",
       "      <td>[#StudioSGP]</td>\n",
       "      <td>'Ik hoop dat er zo lang mogelijk echt ruimte b...</td>\n",
       "      <td>False</td>\n",
       "      <td>True</td>\n",
       "      <td>20</td>\n",
       "      <td>3</td>\n",
       "      <td>0</td>\n",
       "      <td>0</td>\n",
       "      <td>1</td>\n",
       "      <td>2</td>\n",
       "    </tr>\n",
       "    <tr>\n",
       "      <th>2</th>\n",
       "      <td>Kees van der Staaij</td>\n",
       "      <td>SGP</td>\n",
       "      <td>1</td>\n",
       "      <td>2021-01-15</td>\n",
       "      <td>21:46:12</td>\n",
       "      <td>Bekijk de uitzending van #StudioSGP terug op Y...</td>\n",
       "      <td>[#StudioSGP]</td>\n",
       "      <td>Bekijk de uitzending van StudioSGP terug op Yo...</td>\n",
       "      <td>True</td>\n",
       "      <td>False</td>\n",
       "      <td>8</td>\n",
       "      <td>1</td>\n",
       "      <td>13</td>\n",
       "      <td>0</td>\n",
       "      <td>1</td>\n",
       "      <td>0</td>\n",
       "    </tr>\n",
       "    <tr>\n",
       "      <th>3</th>\n",
       "      <td>Kees van der Staaij</td>\n",
       "      <td>SGP</td>\n",
       "      <td>1</td>\n",
       "      <td>2021-01-15</td>\n",
       "      <td>18:35:03</td>\n",
       "      <td>RT @SGPnieuws: We zijn LIVE met #StudioSGP! Te...</td>\n",
       "      <td>[#StudioSGP]</td>\n",
       "      <td>We zijn LIVE met StudioSGP! Te gast zijn , , M...</td>\n",
       "      <td>False</td>\n",
       "      <td>True</td>\n",
       "      <td>17</td>\n",
       "      <td>4</td>\n",
       "      <td>0</td>\n",
       "      <td>0</td>\n",
       "      <td>1</td>\n",
       "      <td>3</td>\n",
       "    </tr>\n",
       "    <tr>\n",
       "      <th>4</th>\n",
       "      <td>Kees van der Staaij</td>\n",
       "      <td>SGP</td>\n",
       "      <td>1</td>\n",
       "      <td>2021-01-15</td>\n",
       "      <td>18:01:07</td>\n",
       "      <td>RT @SGPnieuws: We gaan over 30 minuten live me...</td>\n",
       "      <td>[#StudioSGP, #kabinet, #RutteIII]</td>\n",
       "      <td>We gaan over  minuten live met een EXTRA LANGE...</td>\n",
       "      <td>False</td>\n",
       "      <td>True</td>\n",
       "      <td>16</td>\n",
       "      <td>2</td>\n",
       "      <td>0</td>\n",
       "      <td>0</td>\n",
       "      <td>3</td>\n",
       "      <td>3</td>\n",
       "    </tr>\n",
       "  </tbody>\n",
       "</table>\n",
       "</div>"
      ],
      "text/plain": [
       "                  name party  orientation        date      time  \\\n",
       "0  Kees van der Staaij   SGP            1  2021-01-16  10:20:38   \n",
       "1  Kees van der Staaij   SGP            1  2021-01-16  09:01:46   \n",
       "2  Kees van der Staaij   SGP            1  2021-01-15  21:46:12   \n",
       "3  Kees van der Staaij   SGP            1  2021-01-15  18:35:03   \n",
       "4  Kees van der Staaij   SGP            1  2021-01-15  18:01:07   \n",
       "\n",
       "                                                text  \\\n",
       "0  Namens @SGPnieuws feliciteer ik het @Hoornbeec...   \n",
       "1  RT @SGPnieuws: 'Ik hoop dat er zo lang mogelij...   \n",
       "2  Bekijk de uitzending van #StudioSGP terug op Y...   \n",
       "3  RT @SGPnieuws: We zijn LIVE met #StudioSGP! Te...   \n",
       "4  RT @SGPnieuws: We gaan over 30 minuten live me...   \n",
       "\n",
       "                            hashtags  \\\n",
       "0                             [#ROC]   \n",
       "1                       [#StudioSGP]   \n",
       "2                       [#StudioSGP]   \n",
       "3                       [#StudioSGP]   \n",
       "4  [#StudioSGP, #kabinet, #RutteIII]   \n",
       "\n",
       "                                          clean text  quoted tweet  retweet  \\\n",
       "0  Namens  feliciteer ik het  van harte! Wat mooi...         False    False   \n",
       "1  'Ik hoop dat er zo lang mogelijk echt ruimte b...         False     True   \n",
       "2  Bekijk de uitzending van StudioSGP terug op Yo...          True    False   \n",
       "3  We zijn LIVE met StudioSGP! Te gast zijn , , M...         False     True   \n",
       "4  We gaan over  minuten live met een EXTRA LANGE...         False     True   \n",
       "\n",
       "   word count  retweet count  favorite count  emoji count  hashtag count  \\\n",
       "0          26             17              82            0              1   \n",
       "1          20              3               0            0              1   \n",
       "2           8              1              13            0              1   \n",
       "3          17              4               0            0              1   \n",
       "4          16              2               0            0              3   \n",
       "\n",
       "   mention count  \n",
       "0              2  \n",
       "1              2  \n",
       "2              0  \n",
       "3              3  \n",
       "4              3  "
      ]
     },
     "execution_count": 15,
     "metadata": {},
     "output_type": "execute_result"
    }
   ],
   "source": [
    "# Our final dataframe\n",
    "\n",
    "df = df[[\"name\", \"party\", \"orientation\", \"date\", \"time\", \"text\", \"hashtags\", \"clean text\", \"quoted tweet\", \"retweet\", \"word count\", \"retweet count\", \"favorite count\", \"emoji count\", \"hashtag count\", \"mention count\"]]\n",
    "df.head()"
   ]
  },
  {
   "cell_type": "code",
   "execution_count": 16,
   "metadata": {},
   "outputs": [],
   "source": [
    "df_words = df[[\"name\", \"party\", \"orientation\", \"date\", \"time\", \"text\", \"hashtags\", \"clean text\", \"quoted tweet\", \"retweet\", \"word count\", \"retweet count\", \"favorite count\", \"emoji count\", \"hashtag count\", \"mention count\"]]"
   ]
  },
  {
   "cell_type": "markdown",
   "metadata": {},
   "source": [
    "## Exploratory data analysis "
   ]
  },
  {
   "cell_type": "markdown",
   "metadata": {},
   "source": [
    "The dataset contains a total of 37,221 tweets by thirteen party leaders divided over five classes.  The graph below shows an imbalance in the class distribution. Much research has been done on dealing with class imbalance; for example, on undersampling or oversampling (Yap et al, 2014).  Nevertheless, in this dataset, we decide to keep the classes as they occur. It is, however, essential to keep the imbalance in mind when evaluating the model. "
   ]
  },
  {
   "cell_type": "code",
   "execution_count": 17,
   "metadata": {},
   "outputs": [
    {
     "data": {
      "image/png": "[encoded data removed]",
      "text/plain": [
       "<Figure size 576x432 with 1 Axes>"
      ]
     },
     "metadata": {
      "needs_background": "light"
     },
     "output_type": "display_data"
    }
   ],
   "source": [
    "plt.figure(figsize=(8, 6))\n",
    "ax = sns.countplot(x=\"orientation\", data=df, palette=\"Blues\")\n",
    "plt.title(\"Number of Tweets per Political Orientation\")\n",
    "plt.ylabel(\"Number of tweets\")\n",
    "plt.xlabel(\"Orientation\")\n",
    "plt.show()"
   ]
  },
  {
   "cell_type": "code",
   "execution_count": 18,
   "metadata": {},
   "outputs": [
    {
     "data": {
      "text/plain": [
       "orientation  party \n",
       "-2           PvdD      0.501014\n",
       "             SP        0.498986\n",
       "-1           PVDA      0.258828\n",
       "             50PLUS    0.256835\n",
       "             Denk      0.251255\n",
       "             GL        0.233081\n",
       " 0           CU        0.590800\n",
       "             D66       0.249126\n",
       "             CDA       0.160074\n",
       " 1           SGP       0.501559\n",
       "             PVV       0.498441\n",
       " 2           VVD       0.501714\n",
       "             FvD       0.498286\n",
       "Name: party, dtype: float64"
      ]
     },
     "execution_count": 18,
     "metadata": {},
     "output_type": "execute_result"
    }
   ],
   "source": [
    "table1 = df[\"party\"].groupby(df[\"orientation\"]).value_counts(normalize=True)\n",
    "table1"
   ]
  },
  {
   "cell_type": "markdown",
   "metadata": {},
   "source": [
    "#### Tweet is a quote\n",
    "\n",
    "The absolute amount of non quoted tweets is in the -1 class. After normalizing the variable, it becomes evident that the distribution among the classes is relatively even (as shown in the figure and table below). This makes this feature not very usable in predicting a class because it does not distinguish the classes from each other."
   ]
  },
  {
   "cell_type": "code",
   "execution_count": 19,
   "metadata": {},
   "outputs": [
    {
     "data": {
      "image/png": "[encoded data removed]",
      "text/plain": [
       "<Figure size 576x432 with 1 Axes>"
      ]
     },
     "metadata": {
      "needs_background": "light"
     },
     "output_type": "display_data"
    }
   ],
   "source": [
    "plt.figure(figsize=(8, 6))\n",
    "ax = sns.countplot(x=\"quoted tweet\", hue=\"orientation\", data=df, palette=\"Blues\")\n",
    "plt.title(\"Tweet is a Quote\")\n",
    "plt.ylabel(\"Number of Tweets\")\n",
    "plt.xlabel(\"Tweet is a Quote\")\n",
    "plt.show()"
   ]
  },
  {
   "cell_type": "code",
   "execution_count": 20,
   "metadata": {},
   "outputs": [
    {
     "data": {
      "text/html": [
       "<div>\n",
       "<style scoped>\n",
       "    .dataframe tbody tr th:only-of-type {\n",
       "        vertical-align: middle;\n",
       "    }\n",
       "\n",
       "    .dataframe tbody tr th {\n",
       "        vertical-align: top;\n",
       "    }\n",
       "\n",
       "    .dataframe thead th {\n",
       "        text-align: right;\n",
       "    }\n",
       "</style>\n",
       "<table border=\"1\" class=\"dataframe\">\n",
       "  <thead>\n",
       "    <tr style=\"text-align: right;\">\n",
       "      <th>orientation</th>\n",
       "      <th>-2</th>\n",
       "      <th>-1</th>\n",
       "      <th>0</th>\n",
       "      <th>1</th>\n",
       "      <th>2</th>\n",
       "    </tr>\n",
       "    <tr>\n",
       "      <th>quoted tweet</th>\n",
       "      <th></th>\n",
       "      <th></th>\n",
       "      <th></th>\n",
       "      <th></th>\n",
       "      <th></th>\n",
       "    </tr>\n",
       "  </thead>\n",
       "  <tbody>\n",
       "    <tr>\n",
       "      <th>False</th>\n",
       "      <td>82.171268</td>\n",
       "      <td>88.266242</td>\n",
       "      <td>86.954922</td>\n",
       "      <td>85.095104</td>\n",
       "      <td>88.388404</td>\n",
       "    </tr>\n",
       "    <tr>\n",
       "      <th>True</th>\n",
       "      <td>17.828732</td>\n",
       "      <td>11.733758</td>\n",
       "      <td>13.045078</td>\n",
       "      <td>14.904896</td>\n",
       "      <td>11.611596</td>\n",
       "    </tr>\n",
       "  </tbody>\n",
       "</table>\n",
       "</div>"
      ],
      "text/plain": [
       "orientation          -2         -1          0          1          2\n",
       "quoted tweet                                                       \n",
       "False         82.171268  88.266242  86.954922  85.095104  88.388404\n",
       "True          17.828732  11.733758  13.045078  14.904896  11.611596"
      ]
     },
     "execution_count": 20,
     "metadata": {},
     "output_type": "execute_result"
    }
   ],
   "source": [
    "pd.crosstab(df[\"quoted tweet\"], df[\"orientation\"], normalize='columns') * 100"
   ]
  },
  {
   "cell_type": "markdown",
   "metadata": {},
   "source": [
    "#### Tweet is a Retweet\n",
    "\n",
    "This variable is a little less evently distributed. If we look at the table below, we can see that especially the center (orientation: 0) is not very keen on Retweeting other users' Tweets. We could decide on filtering all Retweets out, because it is not original content from the user itself. On the other hand, studies show that people do tend for commuication purpose (initiating a conversation), social relationship maintenance and self- expression (LEE et al., 2015, p. 190) therefore making it a integral part of their personal vocabulary. "
   ]
  },
  {
   "cell_type": "code",
   "execution_count": 21,
   "metadata": {},
   "outputs": [
    {
     "data": {
      "image/png": "[encoded data removed]",
      "text/plain": [
       "<Figure size 576x432 with 1 Axes>"
      ]
     },
     "metadata": {
      "needs_background": "light"
     },
     "output_type": "display_data"
    }
   ],
   "source": [
    "plt.figure(figsize=(8, 6))\n",
    "ax = sns.countplot(x=\"retweet\", hue=\"orientation\", data=df, palette=\"Blues\")\n",
    "plt.title(\"Tweet is a Retweet\")\n",
    "plt.ylabel(\"Number of Tweets\")\n",
    "plt.xlabel(\"Tweet is a Retweet\")\n",
    "plt.show()"
   ]
  },
  {
   "cell_type": "code",
   "execution_count": 22,
   "metadata": {},
   "outputs": [
    {
     "data": {
      "text/html": [
       "<div>\n",
       "<style scoped>\n",
       "    .dataframe tbody tr th:only-of-type {\n",
       "        vertical-align: middle;\n",
       "    }\n",
       "\n",
       "    .dataframe tbody tr th {\n",
       "        vertical-align: top;\n",
       "    }\n",
       "\n",
       "    .dataframe thead th {\n",
       "        text-align: right;\n",
       "    }\n",
       "</style>\n",
       "<table border=\"1\" class=\"dataframe\">\n",
       "  <thead>\n",
       "    <tr style=\"text-align: right;\">\n",
       "      <th>orientation</th>\n",
       "      <th>-2</th>\n",
       "      <th>-1</th>\n",
       "      <th>0</th>\n",
       "      <th>1</th>\n",
       "      <th>2</th>\n",
       "    </tr>\n",
       "    <tr>\n",
       "      <th>retweet</th>\n",
       "      <th></th>\n",
       "      <th></th>\n",
       "      <th></th>\n",
       "      <th></th>\n",
       "      <th></th>\n",
       "    </tr>\n",
       "  </thead>\n",
       "  <tbody>\n",
       "    <tr>\n",
       "      <th>False</th>\n",
       "      <td>70.51942</td>\n",
       "      <td>56.899163</td>\n",
       "      <td>80.809568</td>\n",
       "      <td>59.40131</td>\n",
       "      <td>60.271197</td>\n",
       "    </tr>\n",
       "    <tr>\n",
       "      <th>True</th>\n",
       "      <td>29.48058</td>\n",
       "      <td>43.100837</td>\n",
       "      <td>19.190432</td>\n",
       "      <td>40.59869</td>\n",
       "      <td>39.728803</td>\n",
       "    </tr>\n",
       "  </tbody>\n",
       "</table>\n",
       "</div>"
      ],
      "text/plain": [
       "orientation        -2         -1          0         1          2\n",
       "retweet                                                         \n",
       "False        70.51942  56.899163  80.809568  59.40131  60.271197\n",
       "True         29.48058  43.100837  19.190432  40.59869  39.728803"
      ]
     },
     "execution_count": 22,
     "metadata": {},
     "output_type": "execute_result"
    }
   ],
   "source": [
    "pd.crosstab(df[\"retweet\"], df[\"orientation\"], normalize='columns') * 100"
   ]
  },
  {
   "cell_type": "markdown",
   "metadata": {},
   "source": [
    "#### Amount of words per Tweet\n",
    "\n"
   ]
  },
  {
   "cell_type": "markdown",
   "metadata": {},
   "source": [
    "The maximum amount of characters set to 280 can contain quite some words. Yet the median amount of words used among the classes is somewhere between 15 and 20. This is in line with research that shows that shorter Tweets generate more engagement. \n",
    "Yet, sometimes more words are needed:  all classes show data points in the third quartile range. The distribution differs most between the classes -2 / 0 and -1 / 1 / 2.  \n",
    "\n",
    "Most words are counting within class -1, but this class also withholds the most Tweets. "
   ]
  },
  {
   "cell_type": "code",
   "execution_count": 23,
   "metadata": {},
   "outputs": [
    {
     "data": {
      "image/png": "[encoded data removed]",
      "text/plain": [
       "<Figure size 576x432 with 1 Axes>"
      ]
     },
     "metadata": {
      "needs_background": "light"
     },
     "output_type": "display_data"
    }
   ],
   "source": [
    "plt.figure(figsize=(8, 6))\n",
    "ax = sns.violinplot(x=\"orientation\", y=\"word count\", data=df, palette=\"Blues\")\n",
    "plt.title(\"Amount of words per Tweet (per orientation)\")\n",
    "plt.ylabel(\"Words\")\n",
    "plt.xlabel(\"Orientation\")\n",
    "plt.show()"
   ]
  },
  {
   "cell_type": "code",
   "execution_count": 24,
   "metadata": {},
   "outputs": [
    {
     "name": "stdout",
     "output_type": "stream",
     "text": [
      "   orientation  word count  percentage\n",
      "1           -1      196938   27.588071\n",
      "0           -2      142661   19.984675\n",
      "4            2      132411   18.548803\n",
      "2            0      127592   17.873733\n",
      "3            1      114250   16.004718\n"
     ]
    }
   ],
   "source": [
    "table2 = df.groupby(\"orientation\")[\"word count\"].sum().reset_index()\n",
    "table2[\"percentage\"] = (table2[\"word count\"] / table2[\"word count\"].sum()) * 100\n",
    "table2 = table2.sort_values(by=\"percentage\", ascending = False)\n",
    "print(table2)"
   ]
  },
  {
   "cell_type": "code",
   "execution_count": 25,
   "metadata": {},
   "outputs": [
    {
     "data": {
      "text/html": [
       "<div>\n",
       "<style scoped>\n",
       "    .dataframe tbody tr th:only-of-type {\n",
       "        vertical-align: middle;\n",
       "    }\n",
       "\n",
       "    .dataframe tbody tr th {\n",
       "        vertical-align: top;\n",
       "    }\n",
       "\n",
       "    .dataframe thead th {\n",
       "        text-align: right;\n",
       "    }\n",
       "</style>\n",
       "<table border=\"1\" class=\"dataframe\">\n",
       "  <thead>\n",
       "    <tr style=\"text-align: right;\">\n",
       "      <th></th>\n",
       "      <th>name</th>\n",
       "      <th>party</th>\n",
       "      <th>orientation</th>\n",
       "      <th>date</th>\n",
       "      <th>text</th>\n",
       "      <th>word count</th>\n",
       "    </tr>\n",
       "  </thead>\n",
       "  <tbody>\n",
       "    <tr>\n",
       "      <th>1863</th>\n",
       "      <td>Lodewijk Asscher</td>\n",
       "      <td>PVDA</td>\n",
       "      <td>-1</td>\n",
       "      <td>2019-06-07</td>\n",
       "      <td>“In the end England were schooled by a Dutch t...</td>\n",
       "      <td>58</td>\n",
       "    </tr>\n",
       "    <tr>\n",
       "      <th>294</th>\n",
       "      <td>Geert Wilders</td>\n",
       "      <td>PVV</td>\n",
       "      <td>1</td>\n",
       "      <td>2020-11-12</td>\n",
       "      <td>Ik ben al 16 jaar mijn vrijheid kwijt en word ...</td>\n",
       "      <td>56</td>\n",
       "    </tr>\n",
       "    <tr>\n",
       "      <th>659</th>\n",
       "      <td>Gert-Jan Segers</td>\n",
       "      <td>CU</td>\n",
       "      <td>0</td>\n",
       "      <td>2020-08-29</td>\n",
       "      <td>Het enige wat me dan helpt, is de overtuiging ...</td>\n",
       "      <td>56</td>\n",
       "    </tr>\n",
       "    <tr>\n",
       "      <th>1265</th>\n",
       "      <td>Esther Ouwehand</td>\n",
       "      <td>PvdD</td>\n",
       "      <td>-2</td>\n",
       "      <td>2019-11-02</td>\n",
       "      <td>De kunst van het menszijn? Iig dit: open en mo...</td>\n",
       "      <td>56</td>\n",
       "    </tr>\n",
       "    <tr>\n",
       "      <th>441</th>\n",
       "      <td>Gert-Jan Segers</td>\n",
       "      <td>CU</td>\n",
       "      <td>0</td>\n",
       "      <td>2020-10-26</td>\n",
       "      <td>Take these hands\\nTeach them what to carry\\nTa...</td>\n",
       "      <td>55</td>\n",
       "    </tr>\n",
       "    <tr>\n",
       "      <th>999</th>\n",
       "      <td>Gert-Jan Segers</td>\n",
       "      <td>CU</td>\n",
       "      <td>0</td>\n",
       "      <td>2020-06-03</td>\n",
       "      <td>@janwillemwits Heel belangrijk dat het idd gaa...</td>\n",
       "      <td>55</td>\n",
       "    </tr>\n",
       "    <tr>\n",
       "      <th>3011</th>\n",
       "      <td>Gert-Jan Segers</td>\n",
       "      <td>CU</td>\n",
       "      <td>0</td>\n",
       "      <td>2018-12-05</td>\n",
       "      <td>@HansHaarsma Dat is niet flauw, maar precies h...</td>\n",
       "      <td>55</td>\n",
       "    </tr>\n",
       "    <tr>\n",
       "      <th>524</th>\n",
       "      <td>Jesse Klaver</td>\n",
       "      <td>GL</td>\n",
       "      <td>-1</td>\n",
       "      <td>2019-11-13</td>\n",
       "      <td>Als je een halfjaar de tijd hebt voor een cris...</td>\n",
       "      <td>55</td>\n",
       "    </tr>\n",
       "    <tr>\n",
       "      <th>2808</th>\n",
       "      <td>Esther Ouwehand</td>\n",
       "      <td>PvdD</td>\n",
       "      <td>-2</td>\n",
       "      <td>2018-12-10</td>\n",
       "      <td>@noknokitsme @Lizzivnimwegen Vrijwel alle vega...</td>\n",
       "      <td>55</td>\n",
       "    </tr>\n",
       "    <tr>\n",
       "      <th>862</th>\n",
       "      <td>Gert-Jan Segers</td>\n",
       "      <td>CU</td>\n",
       "      <td>0</td>\n",
       "      <td>2020-06-25</td>\n",
       "      <td>@RubenRos8 @PD_Dekker @ceemonrooij Weet niet h...</td>\n",
       "      <td>54</td>\n",
       "    </tr>\n",
       "    <tr>\n",
       "      <th>1276</th>\n",
       "      <td>Gert-Jan Segers</td>\n",
       "      <td>CU</td>\n",
       "      <td>0</td>\n",
       "      <td>2020-04-12</td>\n",
       "      <td>The rule has been disproved\\nThe stone - it ha...</td>\n",
       "      <td>54</td>\n",
       "    </tr>\n",
       "    <tr>\n",
       "      <th>2203</th>\n",
       "      <td>Gert-Jan Segers</td>\n",
       "      <td>CU</td>\n",
       "      <td>0</td>\n",
       "      <td>2019-07-16</td>\n",
       "      <td>@GeertenWaling Het is een evidentie dat je gee...</td>\n",
       "      <td>54</td>\n",
       "    </tr>\n",
       "    <tr>\n",
       "      <th>1772</th>\n",
       "      <td>Esther Ouwehand</td>\n",
       "      <td>PvdD</td>\n",
       "      <td>-2</td>\n",
       "      <td>2019-06-29</td>\n",
       "      <td>@marceldedood Schrijft u dat vooral aan de boe...</td>\n",
       "      <td>54</td>\n",
       "    </tr>\n",
       "    <tr>\n",
       "      <th>2978</th>\n",
       "      <td>Esther Ouwehand</td>\n",
       "      <td>PvdD</td>\n",
       "      <td>-2</td>\n",
       "      <td>2018-11-15</td>\n",
       "      <td>@ietsist Veroordelend? Waar dan?\\n\\nVolgens mi...</td>\n",
       "      <td>54</td>\n",
       "    </tr>\n",
       "    <tr>\n",
       "      <th>3047</th>\n",
       "      <td>Esther Ouwehand</td>\n",
       "      <td>PvdD</td>\n",
       "      <td>-2</td>\n",
       "      <td>2018-11-01</td>\n",
       "      <td>@JohnRiddering @PartijvdDieren Mag ik je, name...</td>\n",
       "      <td>54</td>\n",
       "    </tr>\n",
       "  </tbody>\n",
       "</table>\n",
       "</div>"
      ],
      "text/plain": [
       "                  name party  orientation        date  \\\n",
       "1863  Lodewijk Asscher  PVDA           -1  2019-06-07   \n",
       "294      Geert Wilders   PVV            1  2020-11-12   \n",
       "659    Gert-Jan Segers    CU            0  2020-08-29   \n",
       "1265   Esther Ouwehand  PvdD           -2  2019-11-02   \n",
       "441    Gert-Jan Segers    CU            0  2020-10-26   \n",
       "999    Gert-Jan Segers    CU            0  2020-06-03   \n",
       "3011   Gert-Jan Segers    CU            0  2018-12-05   \n",
       "524       Jesse Klaver    GL           -1  2019-11-13   \n",
       "2808   Esther Ouwehand  PvdD           -2  2018-12-10   \n",
       "862    Gert-Jan Segers    CU            0  2020-06-25   \n",
       "1276   Gert-Jan Segers    CU            0  2020-04-12   \n",
       "2203   Gert-Jan Segers    CU            0  2019-07-16   \n",
       "1772   Esther Ouwehand  PvdD           -2  2019-06-29   \n",
       "2978   Esther Ouwehand  PvdD           -2  2018-11-15   \n",
       "3047   Esther Ouwehand  PvdD           -2  2018-11-01   \n",
       "\n",
       "                                                   text  word count  \n",
       "1863  “In the end England were schooled by a Dutch t...          58  \n",
       "294   Ik ben al 16 jaar mijn vrijheid kwijt en word ...          56  \n",
       "659   Het enige wat me dan helpt, is de overtuiging ...          56  \n",
       "1265  De kunst van het menszijn? Iig dit: open en mo...          56  \n",
       "441   Take these hands\\nTeach them what to carry\\nTa...          55  \n",
       "999   @janwillemwits Heel belangrijk dat het idd gaa...          55  \n",
       "3011  @HansHaarsma Dat is niet flauw, maar precies h...          55  \n",
       "524   Als je een halfjaar de tijd hebt voor een cris...          55  \n",
       "2808  @noknokitsme @Lizzivnimwegen Vrijwel alle vega...          55  \n",
       "862   @RubenRos8 @PD_Dekker @ceemonrooij Weet niet h...          54  \n",
       "1276  The rule has been disproved\\nThe stone - it ha...          54  \n",
       "2203  @GeertenWaling Het is een evidentie dat je gee...          54  \n",
       "1772  @marceldedood Schrijft u dat vooral aan de boe...          54  \n",
       "2978  @ietsist Veroordelend? Waar dan?\\n\\nVolgens mi...          54  \n",
       "3047  @JohnRiddering @PartijvdDieren Mag ik je, name...          54  "
      ]
     },
     "execution_count": 25,
     "metadata": {},
     "output_type": "execute_result"
    }
   ],
   "source": [
    "table3 = df[[\"name\", \"party\", \"orientation\", \"date\", \"text\", \"word count\"]]\n",
    "table3 = table3[(table3[\"word count\"] > 50)]\n",
    "table3.nlargest(15,[\"word count\"]) # plot outliers to investigate"
   ]
  },
  {
   "cell_type": "markdown",
   "metadata": {},
   "source": [
    "#### Amount of Retweets "
   ]
  },
  {
   "cell_type": "markdown",
   "metadata": {},
   "source": [
    "The amount of Times a Tweet is Retweets shows one enormous outlier. When investigating the Tweet, the Tweets concerns the most Retweeted Tweet of 2020, the message about Chadwick Boseman's passing (NOS, 2020). After removing this Tweet from the dataset, the graph shows a clearer view of the Retweets' distribution per orientation. \n",
    "Remarkably, the centre (0) doesn't get Retweeted much."
   ]
  },
  {
   "cell_type": "code",
   "execution_count": 26,
   "metadata": {},
   "outputs": [
    {
     "data": {
      "image/png": "[encoded data removed]",
      "text/plain": [
       "<Figure size 360x360 with 1 Axes>"
      ]
     },
     "metadata": {
      "needs_background": "light"
     },
     "output_type": "display_data"
    }
   ],
   "source": [
    "ax = sns.catplot(x=\"orientation\", y=\"retweet count\", data=df, palette=\"Blues\", alpha = 0.5)\n",
    "plt.title(\"Amount of Retweets (per orientation)\")\n",
    "plt.ylabel(\"Reweets\")\n",
    "plt.xlabel(\"Orientation\")\n",
    "plt.show()"
   ]
  },
  {
   "cell_type": "code",
   "execution_count": 27,
   "metadata": {},
   "outputs": [
    {
     "data": {
      "text/html": [
       "<div>\n",
       "<style scoped>\n",
       "    .dataframe tbody tr th:only-of-type {\n",
       "        vertical-align: middle;\n",
       "    }\n",
       "\n",
       "    .dataframe tbody tr th {\n",
       "        vertical-align: top;\n",
       "    }\n",
       "\n",
       "    .dataframe thead th {\n",
       "        text-align: right;\n",
       "    }\n",
       "</style>\n",
       "<table border=\"1\" class=\"dataframe\">\n",
       "  <thead>\n",
       "    <tr style=\"text-align: right;\">\n",
       "      <th></th>\n",
       "      <th>name</th>\n",
       "      <th>party</th>\n",
       "      <th>orientation</th>\n",
       "      <th>date</th>\n",
       "      <th>text</th>\n",
       "      <th>retweet count</th>\n",
       "    </tr>\n",
       "  </thead>\n",
       "  <tbody>\n",
       "    <tr>\n",
       "      <th>728</th>\n",
       "      <td>Farid Azarkan</td>\n",
       "      <td>Denk</td>\n",
       "      <td>-1</td>\n",
       "      <td>2020-08-29</td>\n",
       "      <td>RT @chadwickboseman: https://t.co/aZ2JzDf5ai</td>\n",
       "      <td>2168029</td>\n",
       "    </tr>\n",
       "    <tr>\n",
       "      <th>2983</th>\n",
       "      <td>Farid Azarkan</td>\n",
       "      <td>Denk</td>\n",
       "      <td>-1</td>\n",
       "      <td>2018-02-23</td>\n",
       "      <td>RT @helenhousandi: I've watched this GIF at le...</td>\n",
       "      <td>278122</td>\n",
       "    </tr>\n",
       "    <tr>\n",
       "      <th>79</th>\n",
       "      <td>Farid Azarkan</td>\n",
       "      <td>Denk</td>\n",
       "      <td>-1</td>\n",
       "      <td>2021-01-06</td>\n",
       "      <td>RT @bubbaprog: Cops are taking selfies with th...</td>\n",
       "      <td>151638</td>\n",
       "    </tr>\n",
       "    <tr>\n",
       "      <th>26</th>\n",
       "      <td>Esther Ouwehand</td>\n",
       "      <td>PvdD</td>\n",
       "      <td>-2</td>\n",
       "      <td>2021-01-06</td>\n",
       "      <td>RT @LucasBrownEyes: As we watch Trumpers storm...</td>\n",
       "      <td>131622</td>\n",
       "    </tr>\n",
       "    <tr>\n",
       "      <th>1070</th>\n",
       "      <td>Farid Azarkan</td>\n",
       "      <td>Denk</td>\n",
       "      <td>-1</td>\n",
       "      <td>2020-06-06</td>\n",
       "      <td>RT @BradfordPearson: The crowd in Philly is......</td>\n",
       "      <td>130859</td>\n",
       "    </tr>\n",
       "    <tr>\n",
       "      <th>1110</th>\n",
       "      <td>Farid Azarkan</td>\n",
       "      <td>Denk</td>\n",
       "      <td>-1</td>\n",
       "      <td>2020-05-29</td>\n",
       "      <td>RT @BerniceKing: If you’re unbothered or mildl...</td>\n",
       "      <td>126854</td>\n",
       "    </tr>\n",
       "    <tr>\n",
       "      <th>2111</th>\n",
       "      <td>Lodewijk Asscher</td>\n",
       "      <td>PVDA</td>\n",
       "      <td>-1</td>\n",
       "      <td>2019-04-15</td>\n",
       "      <td>RT @Inaki_Gil: Ave Maria https://t.co/lb6Y5XV05a</td>\n",
       "      <td>121691</td>\n",
       "    </tr>\n",
       "    <tr>\n",
       "      <th>33</th>\n",
       "      <td>Lilian Marijnissen</td>\n",
       "      <td>SP</td>\n",
       "      <td>-2</td>\n",
       "      <td>2021-01-06</td>\n",
       "      <td>RT @BernieSanders: The man directly responsibl...</td>\n",
       "      <td>114281</td>\n",
       "    </tr>\n",
       "    <tr>\n",
       "      <th>1169</th>\n",
       "      <td>Farid Azarkan</td>\n",
       "      <td>Denk</td>\n",
       "      <td>-1</td>\n",
       "      <td>2020-05-16</td>\n",
       "      <td>RT @sarahcpr: How to more cases than anybody i...</td>\n",
       "      <td>91850</td>\n",
       "    </tr>\n",
       "    <tr>\n",
       "      <th>2509</th>\n",
       "      <td>Lodewijk Asscher</td>\n",
       "      <td>PVDA</td>\n",
       "      <td>-1</td>\n",
       "      <td>2019-01-25</td>\n",
       "      <td>RT @briantylercohen: Wow. I’ve never seen anyt...</td>\n",
       "      <td>90514</td>\n",
       "    </tr>\n",
       "  </tbody>\n",
       "</table>\n",
       "</div>"
      ],
      "text/plain": [
       "                    name party  orientation        date  \\\n",
       "728        Farid Azarkan  Denk           -1  2020-08-29   \n",
       "2983       Farid Azarkan  Denk           -1  2018-02-23   \n",
       "79         Farid Azarkan  Denk           -1  2021-01-06   \n",
       "26       Esther Ouwehand  PvdD           -2  2021-01-06   \n",
       "1070       Farid Azarkan  Denk           -1  2020-06-06   \n",
       "1110       Farid Azarkan  Denk           -1  2020-05-29   \n",
       "2111    Lodewijk Asscher  PVDA           -1  2019-04-15   \n",
       "33    Lilian Marijnissen    SP           -2  2021-01-06   \n",
       "1169       Farid Azarkan  Denk           -1  2020-05-16   \n",
       "2509    Lodewijk Asscher  PVDA           -1  2019-01-25   \n",
       "\n",
       "                                                   text  retweet count  \n",
       "728        RT @chadwickboseman: https://t.co/aZ2JzDf5ai        2168029  \n",
       "2983  RT @helenhousandi: I've watched this GIF at le...         278122  \n",
       "79    RT @bubbaprog: Cops are taking selfies with th...         151638  \n",
       "26    RT @LucasBrownEyes: As we watch Trumpers storm...         131622  \n",
       "1070  RT @BradfordPearson: The crowd in Philly is......         130859  \n",
       "1110  RT @BerniceKing: If you’re unbothered or mildl...         126854  \n",
       "2111   RT @Inaki_Gil: Ave Maria https://t.co/lb6Y5XV05a         121691  \n",
       "33    RT @BernieSanders: The man directly responsibl...         114281  \n",
       "1169  RT @sarahcpr: How to more cases than anybody i...          91850  \n",
       "2509  RT @briantylercohen: Wow. I’ve never seen anyt...          90514  "
      ]
     },
     "execution_count": 27,
     "metadata": {},
     "output_type": "execute_result"
    }
   ],
   "source": [
    "table4 = df[[\"name\", \"party\", \"orientation\", \"date\", \"text\", \"retweet count\"]]\n",
    "table4 = table4[(table4[\"retweet count\"] > 10000 )]\n",
    "table4.sort_values(by=\"retweet count\", ascending = False)\n",
    "table4.nlargest(10, ['retweet count']) # plot outliers to investigate"
   ]
  },
  {
   "cell_type": "code",
   "execution_count": 28,
   "metadata": {},
   "outputs": [
    {
     "data": {
      "image/png": "[encoded data removed]",
      "text/plain": [
       "<Figure size 360x360 with 1 Axes>"
      ]
     },
     "metadata": {
      "needs_background": "light"
     },
     "output_type": "display_data"
    }
   ],
   "source": [
    "table5 = df[(df[\"retweet count\"] < 30000 )]\n",
    "ax = sns.catplot(x=\"orientation\", y=\"retweet count\", data=table5, palette=\"Blues\", alpha = 0.5)\n",
    "plt.title(\"Amount of Retweets (per orientation)\")\n",
    "plt.ylabel(\"Reweets\")\n",
    "plt.xlabel(\"Orientation\")\n",
    "plt.show() # plot without outliers "
   ]
  },
  {
   "cell_type": "markdown",
   "metadata": {},
   "source": [
    "#### Amount of favorited Tweets "
   ]
  },
  {
   "cell_type": "markdown",
   "metadata": {},
   "source": [
    "The distribution of the amount of favorited tweets also has some massive outliers. When investigating more closely in the violin plots, it turn out that the median amount of favorited Tweets is closer to 10 then to ten thousands. It seems the amount of favorited Tweets is especially high in class 1. When zooming in especially, the PVV has a lot of favorited Tweets. It could be interesting to research if this might have to do with the PVV's populist rhetoric. "
   ]
  },
  {
   "cell_type": "code",
   "execution_count": 29,
   "metadata": {},
   "outputs": [
    {
     "data": {
      "image/png": "[encoded data removed]",
      "text/plain": [
       "<Figure size 360x360 with 1 Axes>"
      ]
     },
     "metadata": {
      "needs_background": "light"
     },
     "output_type": "display_data"
    }
   ],
   "source": [
    "ax = sns.catplot(x=\"orientation\", y=\"favorite count\", data=df, palette=\"Blues\", alpha = 0.5)\n",
    "plt.title(\"Amount of favorited Tweets (per orientation)\")\n",
    "plt.ylabel(\"Favorites\")\n",
    "plt.xlabel(\"Orientation\")\n",
    "plt.show()"
   ]
  },
  {
   "cell_type": "code",
   "execution_count": 30,
   "metadata": {},
   "outputs": [
    {
     "data": {
      "text/html": [
       "<div>\n",
       "<style scoped>\n",
       "    .dataframe tbody tr th:only-of-type {\n",
       "        vertical-align: middle;\n",
       "    }\n",
       "\n",
       "    .dataframe tbody tr th {\n",
       "        vertical-align: top;\n",
       "    }\n",
       "\n",
       "    .dataframe thead th {\n",
       "        text-align: right;\n",
       "    }\n",
       "</style>\n",
       "<table border=\"1\" class=\"dataframe\">\n",
       "  <thead>\n",
       "    <tr style=\"text-align: right;\">\n",
       "      <th></th>\n",
       "      <th>name</th>\n",
       "      <th>party</th>\n",
       "      <th>orientation</th>\n",
       "      <th>date</th>\n",
       "      <th>text</th>\n",
       "      <th>favorite count</th>\n",
       "    </tr>\n",
       "  </thead>\n",
       "  <tbody>\n",
       "    <tr>\n",
       "      <th>2717</th>\n",
       "      <td>Geert Wilders</td>\n",
       "      <td>PVV</td>\n",
       "      <td>1</td>\n",
       "      <td>2019-08-05</td>\n",
       "      <td>India is a full democracy.\\nPakistan is a 100%...</td>\n",
       "      <td>56181</td>\n",
       "    </tr>\n",
       "    <tr>\n",
       "      <th>19</th>\n",
       "      <td>Mark Rutte</td>\n",
       "      <td>VVD</td>\n",
       "      <td>2</td>\n",
       "      <td>2021-01-06</td>\n",
       "      <td>Horrible images from Washington D.C. Dear @rea...</td>\n",
       "      <td>27547</td>\n",
       "    </tr>\n",
       "    <tr>\n",
       "      <th>1833</th>\n",
       "      <td>Mark Rutte</td>\n",
       "      <td>VVD</td>\n",
       "      <td>2</td>\n",
       "      <td>2017-06-27</td>\n",
       "      <td>नीदरलैंड्स में पधारने के लिए धन्यवाद @narendra...</td>\n",
       "      <td>22726</td>\n",
       "    </tr>\n",
       "    <tr>\n",
       "      <th>152</th>\n",
       "      <td>Mark Rutte</td>\n",
       "      <td>VVD</td>\n",
       "      <td>2</td>\n",
       "      <td>2020-10-26</td>\n",
       "      <td>President Erdogan’s words addressing President...</td>\n",
       "      <td>15657</td>\n",
       "    </tr>\n",
       "    <tr>\n",
       "      <th>434</th>\n",
       "      <td>Geert Wilders</td>\n",
       "      <td>PVV</td>\n",
       "      <td>1</td>\n",
       "      <td>2020-10-24</td>\n",
       "      <td>Terrorist. https://t.co/jxdnDhk9ti</td>\n",
       "      <td>14175</td>\n",
       "    </tr>\n",
       "    <tr>\n",
       "      <th>2695</th>\n",
       "      <td>Geert Wilders</td>\n",
       "      <td>PVV</td>\n",
       "      <td>1</td>\n",
       "      <td>2019-08-11</td>\n",
       "      <td>Today the islamic Eid al Adha - the “Festival ...</td>\n",
       "      <td>12985</td>\n",
       "    </tr>\n",
       "  </tbody>\n",
       "</table>\n",
       "</div>"
      ],
      "text/plain": [
       "               name party  orientation        date  \\\n",
       "2717  Geert Wilders   PVV            1  2019-08-05   \n",
       "19       Mark Rutte   VVD            2  2021-01-06   \n",
       "1833     Mark Rutte   VVD            2  2017-06-27   \n",
       "152      Mark Rutte   VVD            2  2020-10-26   \n",
       "434   Geert Wilders   PVV            1  2020-10-24   \n",
       "2695  Geert Wilders   PVV            1  2019-08-11   \n",
       "\n",
       "                                                   text  favorite count  \n",
       "2717  India is a full democracy.\\nPakistan is a 100%...           56181  \n",
       "19    Horrible images from Washington D.C. Dear @rea...           27547  \n",
       "1833  नीदरलैंड्स में पधारने के लिए धन्यवाद @narendra...           22726  \n",
       "152   President Erdogan’s words addressing President...           15657  \n",
       "434                  Terrorist. https://t.co/jxdnDhk9ti           14175  \n",
       "2695  Today the islamic Eid al Adha - the “Festival ...           12985  "
      ]
     },
     "execution_count": 30,
     "metadata": {},
     "output_type": "execute_result"
    }
   ],
   "source": [
    "table6 = df[[\"name\", \"party\", \"orientation\", \"date\", \"text\", \"favorite count\"]]\n",
    "table6 = table6[(table6[\"favorite count\"] > 12000 )]\n",
    "table6.sort_values(by=\"favorite count\", ascending = False)\n",
    "table6.nlargest(10, [\"favorite count\"])  # plot outliers to investigate"
   ]
  },
  {
   "cell_type": "code",
   "execution_count": 31,
   "metadata": {},
   "outputs": [
    {
     "data": {
      "image/png": "[encoded data removed]",
      "text/plain": [
       "<Figure size 360x360 with 1 Axes>"
      ]
     },
     "metadata": {
      "needs_background": "light"
     },
     "output_type": "display_data"
    }
   ],
   "source": [
    "table7 = df[(df[\"favorite count\"] < 20000 )]\n",
    "ax = sns.catplot(x=\"orientation\", y=\"favorite count\", data=table7, palette=\"Blues\", alpha = 0.4)\n",
    "plt.title(\"Amount of favorited Tweets (per orientation)\")\n",
    "plt.ylabel(\"Favorites\")\n",
    "plt.xlabel(\"Orientation\")\n",
    "plt.show() # plot without outliers "
   ]
  },
  {
   "cell_type": "code",
   "execution_count": 32,
   "metadata": {},
   "outputs": [
    {
     "data": {
      "image/png": "[encoded data removed]",
      "text/plain": [
       "<Figure size 576x432 with 1 Axes>"
      ]
     },
     "metadata": {
      "needs_background": "light"
     },
     "output_type": "display_data"
    }
   ],
   "source": [
    "table8 = df[(df[\"favorite count\"].between(1, 1000)) ]\n",
    "plt.figure(figsize=(8, 6))\n",
    "ax = sns.violinplot(x=\"orientation\", y=\"favorite count\", data=table8, palette=\"Blues\")\n",
    "plt.title(\"Amount of favorited Tweets (per orientation)\")\n",
    "plt.ylabel(\"Favorites\")\n",
    "plt.xlabel(\"Orientation\")\n",
    "plt.show() # plot without outliers "
   ]
  },
  {
   "cell_type": "code",
   "execution_count": 33,
   "metadata": {},
   "outputs": [
    {
     "data": {
      "text/html": [
       "<div>\n",
       "<style scoped>\n",
       "    .dataframe tbody tr th:only-of-type {\n",
       "        vertical-align: middle;\n",
       "    }\n",
       "\n",
       "    .dataframe tbody tr th {\n",
       "        vertical-align: top;\n",
       "    }\n",
       "\n",
       "    .dataframe thead th {\n",
       "        text-align: right;\n",
       "    }\n",
       "</style>\n",
       "<table border=\"1\" class=\"dataframe\">\n",
       "  <thead>\n",
       "    <tr style=\"text-align: right;\">\n",
       "      <th></th>\n",
       "      <th>party</th>\n",
       "      <th>favorite count</th>\n",
       "    </tr>\n",
       "  </thead>\n",
       "  <tbody>\n",
       "    <tr>\n",
       "      <th>0</th>\n",
       "      <td>PVV</td>\n",
       "      <td>3257022</td>\n",
       "    </tr>\n",
       "    <tr>\n",
       "      <th>1</th>\n",
       "      <td>VVD</td>\n",
       "      <td>717249</td>\n",
       "    </tr>\n",
       "    <tr>\n",
       "      <th>2</th>\n",
       "      <td>FvD</td>\n",
       "      <td>699899</td>\n",
       "    </tr>\n",
       "    <tr>\n",
       "      <th>3</th>\n",
       "      <td>GL</td>\n",
       "      <td>407793</td>\n",
       "    </tr>\n",
       "    <tr>\n",
       "      <th>4</th>\n",
       "      <td>SP</td>\n",
       "      <td>319404</td>\n",
       "    </tr>\n",
       "    <tr>\n",
       "      <th>5</th>\n",
       "      <td>PVDA</td>\n",
       "      <td>294086</td>\n",
       "    </tr>\n",
       "    <tr>\n",
       "      <th>6</th>\n",
       "      <td>PvdD</td>\n",
       "      <td>207461</td>\n",
       "    </tr>\n",
       "    <tr>\n",
       "      <th>7</th>\n",
       "      <td>CU</td>\n",
       "      <td>173934</td>\n",
       "    </tr>\n",
       "    <tr>\n",
       "      <th>8</th>\n",
       "      <td>D66</td>\n",
       "      <td>170822</td>\n",
       "    </tr>\n",
       "    <tr>\n",
       "      <th>9</th>\n",
       "      <td>SGP</td>\n",
       "      <td>115689</td>\n",
       "    </tr>\n",
       "    <tr>\n",
       "      <th>10</th>\n",
       "      <td>Denk</td>\n",
       "      <td>44473</td>\n",
       "    </tr>\n",
       "    <tr>\n",
       "      <th>11</th>\n",
       "      <td>CDA</td>\n",
       "      <td>33956</td>\n",
       "    </tr>\n",
       "    <tr>\n",
       "      <th>12</th>\n",
       "      <td>50PLUS</td>\n",
       "      <td>2892</td>\n",
       "    </tr>\n",
       "  </tbody>\n",
       "</table>\n",
       "</div>"
      ],
      "text/plain": [
       "     party  favorite count\n",
       "0      PVV         3257022\n",
       "1      VVD          717249\n",
       "2      FvD          699899\n",
       "3       GL          407793\n",
       "4       SP          319404\n",
       "5     PVDA          294086\n",
       "6     PvdD          207461\n",
       "7       CU          173934\n",
       "8      D66          170822\n",
       "9      SGP          115689\n",
       "10    Denk           44473\n",
       "11     CDA           33956\n",
       "12  50PLUS            2892"
      ]
     },
     "execution_count": 33,
     "metadata": {},
     "output_type": "execute_result"
    }
   ],
   "source": [
    "df.groupby([\"party\"])[\"favorite count\"].sum().sort_values(ascending=False).reset_index()"
   ]
  },
  {
   "cell_type": "markdown",
   "metadata": {},
   "source": [
    "#### Amount of Emojis in Tweet"
   ]
  },
  {
   "cell_type": "markdown",
   "metadata": {},
   "source": [
    "Of all Tweets in this dataset 88% don't contain emojis. The class -2 uses by far the most emojis.  The distribution of emojis of class 0 en 2 is rather simular.  When used in the model, it will mostly distinct the -2 and -1 classes from the other classes. "
   ]
  },
  {
   "cell_type": "code",
   "execution_count": 34,
   "metadata": {},
   "outputs": [
    {
     "data": {
      "image/png": "[encoded data removed]",
      "text/plain": [
       "<Figure size 360x360 with 1 Axes>"
      ]
     },
     "metadata": {
      "needs_background": "light"
     },
     "output_type": "display_data"
    }
   ],
   "source": [
    "ax = sns.catplot(x=\"orientation\", y=\"emoji count\", data=df, palette=\"Blues\", alpha = 0.4)\n",
    "plt.title(\"Amount of Emojis in Tweet (per orientation)\")\n",
    "plt.ylabel(\"Emojis\")\n",
    "plt.xlabel(\"Orientation\")\n",
    "plt.show()"
   ]
  },
  {
   "cell_type": "code",
   "execution_count": 35,
   "metadata": {},
   "outputs": [
    {
     "data": {
      "text/html": [
       "<div>\n",
       "<style scoped>\n",
       "    .dataframe tbody tr th:only-of-type {\n",
       "        vertical-align: middle;\n",
       "    }\n",
       "\n",
       "    .dataframe tbody tr th {\n",
       "        vertical-align: top;\n",
       "    }\n",
       "\n",
       "    .dataframe thead th {\n",
       "        text-align: right;\n",
       "    }\n",
       "</style>\n",
       "<table border=\"1\" class=\"dataframe\">\n",
       "  <thead>\n",
       "    <tr style=\"text-align: right;\">\n",
       "      <th></th>\n",
       "      <th>emoji count</th>\n",
       "    </tr>\n",
       "  </thead>\n",
       "  <tbody>\n",
       "    <tr>\n",
       "      <th>0</th>\n",
       "      <td>0.887510</td>\n",
       "    </tr>\n",
       "    <tr>\n",
       "      <th>1</th>\n",
       "      <td>0.070659</td>\n",
       "    </tr>\n",
       "    <tr>\n",
       "      <th>2</th>\n",
       "      <td>0.020660</td>\n",
       "    </tr>\n",
       "    <tr>\n",
       "      <th>3</th>\n",
       "      <td>0.009779</td>\n",
       "    </tr>\n",
       "    <tr>\n",
       "      <th>4</th>\n",
       "      <td>0.004702</td>\n",
       "    </tr>\n",
       "  </tbody>\n",
       "</table>\n",
       "</div>"
      ],
      "text/plain": [
       "   emoji count\n",
       "0     0.887510\n",
       "1     0.070659\n",
       "2     0.020660\n",
       "3     0.009779\n",
       "4     0.004702"
      ]
     },
     "execution_count": 35,
     "metadata": {},
     "output_type": "execute_result"
    }
   ],
   "source": [
    "df[\"emoji count\"].value_counts(normalize=True).nlargest(5).to_frame()"
   ]
  },
  {
   "cell_type": "code",
   "execution_count": 36,
   "metadata": {},
   "outputs": [
    {
     "data": {
      "text/html": [
       "<div>\n",
       "<style scoped>\n",
       "    .dataframe tbody tr th:only-of-type {\n",
       "        vertical-align: middle;\n",
       "    }\n",
       "\n",
       "    .dataframe tbody tr th {\n",
       "        vertical-align: top;\n",
       "    }\n",
       "\n",
       "    .dataframe thead th {\n",
       "        text-align: right;\n",
       "    }\n",
       "</style>\n",
       "<table border=\"1\" class=\"dataframe\">\n",
       "  <thead>\n",
       "    <tr style=\"text-align: right;\">\n",
       "      <th></th>\n",
       "      <th>name</th>\n",
       "      <th>party</th>\n",
       "      <th>orientation</th>\n",
       "      <th>date</th>\n",
       "      <th>text</th>\n",
       "      <th>emoji count</th>\n",
       "    </tr>\n",
       "  </thead>\n",
       "  <tbody>\n",
       "    <tr>\n",
       "      <th>1324</th>\n",
       "      <td>Esther Ouwehand</td>\n",
       "      <td>PvdD</td>\n",
       "      <td>-2</td>\n",
       "      <td>2019-10-20</td>\n",
       "      <td>Conclusie @VPROTegenlicht: minstens 3x zoveel ...</td>\n",
       "      <td>81</td>\n",
       "    </tr>\n",
       "    <tr>\n",
       "      <th>3014</th>\n",
       "      <td>Esther Ouwehand</td>\n",
       "      <td>PvdD</td>\n",
       "      <td>-2</td>\n",
       "      <td>2018-11-09</td>\n",
       "      <td>@kutheks @Wouter_Pieterse 🖤🖤🖤🖤🖤🖤🖤🖤🖤🖤🖤🖤🖤🖤🖤🖤🖤🖤🖤🖤...</td>\n",
       "      <td>70</td>\n",
       "    </tr>\n",
       "    <tr>\n",
       "      <th>1608</th>\n",
       "      <td>Farid Azarkan</td>\n",
       "      <td>Denk</td>\n",
       "      <td>-1</td>\n",
       "      <td>2019-12-02</td>\n",
       "      <td>RT @AlexanderNL: 🔥🔥🔥🔥🔥🔥🔥🔥🔥🔥🔥🔥🔥🔥🔥🔥🔥🔥 https://t....</td>\n",
       "      <td>18</td>\n",
       "    </tr>\n",
       "    <tr>\n",
       "      <th>2268</th>\n",
       "      <td>Esther Ouwehand</td>\n",
       "      <td>PvdD</td>\n",
       "      <td>-2</td>\n",
       "      <td>2019-03-10</td>\n",
       "      <td>@ytstopmovie 🙌🏼🙌🏼🙌🏼🌱💚🐮🌍🙌🏼🙌🏼🙌🏼</td>\n",
       "      <td>16</td>\n",
       "    </tr>\n",
       "  </tbody>\n",
       "</table>\n",
       "</div>"
      ],
      "text/plain": [
       "                 name party  orientation        date  \\\n",
       "1324  Esther Ouwehand  PvdD           -2  2019-10-20   \n",
       "3014  Esther Ouwehand  PvdD           -2  2018-11-09   \n",
       "1608    Farid Azarkan  Denk           -1  2019-12-02   \n",
       "2268  Esther Ouwehand  PvdD           -2  2019-03-10   \n",
       "\n",
       "                                                   text  emoji count  \n",
       "1324  Conclusie @VPROTegenlicht: minstens 3x zoveel ...           81  \n",
       "3014  @kutheks @Wouter_Pieterse 🖤🖤🖤🖤🖤🖤🖤🖤🖤🖤🖤🖤🖤🖤🖤🖤🖤🖤🖤🖤...           70  \n",
       "1608  RT @AlexanderNL: 🔥🔥🔥🔥🔥🔥🔥🔥🔥🔥🔥🔥🔥🔥🔥🔥🔥🔥 https://t....           18  \n",
       "2268                      @ytstopmovie 🙌🏼🙌🏼🙌🏼🌱💚🐮🌍🙌🏼🙌🏼🙌🏼           16  "
      ]
     },
     "execution_count": 36,
     "metadata": {},
     "output_type": "execute_result"
    }
   ],
   "source": [
    "table10 = df[[\"name\", \"party\", \"orientation\", \"date\", \"text\", \"emoji count\"]]\n",
    "table10 = table10[(table10[\"emoji count\"] > 15)]\n",
    "table10.sort_values(by=\"emoji count\", ascending = False)\n",
    "table10.nlargest(5, [\"emoji count\"]) # plot outliers to investigate"
   ]
  },
  {
   "cell_type": "code",
   "execution_count": 37,
   "metadata": {},
   "outputs": [
    {
     "data": {
      "image/png": "[encoded data removed]",
      "text/plain": [
       "<Figure size 576x432 with 1 Axes>"
      ]
     },
     "metadata": {
      "needs_background": "light"
     },
     "output_type": "display_data"
    }
   ],
   "source": [
    "table9 = df[(df[\"emoji count\"].between(1, 20)) ]\n",
    "plt.figure(figsize=(8, 6))\n",
    "ax = sns.violinplot(x=\"orientation\", y=\"emoji count\", data=table9, palette=\"Blues\")\n",
    "plt.title(\"Amount of Emojis in Tweet (per orientation)\")\n",
    "plt.ylabel(\"Emojis\")\n",
    "plt.xlabel(\"Orientation\")\n",
    "plt.show() # plot without outliers "
   ]
  },
  {
   "cell_type": "code",
   "execution_count": 38,
   "metadata": {},
   "outputs": [
    {
     "data": {
      "text/html": [
       "<div>\n",
       "<style scoped>\n",
       "    .dataframe tbody tr th:only-of-type {\n",
       "        vertical-align: middle;\n",
       "    }\n",
       "\n",
       "    .dataframe tbody tr th {\n",
       "        vertical-align: top;\n",
       "    }\n",
       "\n",
       "    .dataframe thead th {\n",
       "        text-align: right;\n",
       "    }\n",
       "</style>\n",
       "<table border=\"1\" class=\"dataframe\">\n",
       "  <thead>\n",
       "    <tr style=\"text-align: right;\">\n",
       "      <th></th>\n",
       "      <th>orientation</th>\n",
       "      <th>emoji count</th>\n",
       "    </tr>\n",
       "  </thead>\n",
       "  <tbody>\n",
       "    <tr>\n",
       "      <th>0</th>\n",
       "      <td>-2</td>\n",
       "      <td>4139</td>\n",
       "    </tr>\n",
       "    <tr>\n",
       "      <th>1</th>\n",
       "      <td>-1</td>\n",
       "      <td>2010</td>\n",
       "    </tr>\n",
       "    <tr>\n",
       "      <th>2</th>\n",
       "      <td>0</td>\n",
       "      <td>642</td>\n",
       "    </tr>\n",
       "    <tr>\n",
       "      <th>3</th>\n",
       "      <td>2</td>\n",
       "      <td>520</td>\n",
       "    </tr>\n",
       "    <tr>\n",
       "      <th>4</th>\n",
       "      <td>1</td>\n",
       "      <td>460</td>\n",
       "    </tr>\n",
       "  </tbody>\n",
       "</table>\n",
       "</div>"
      ],
      "text/plain": [
       "   orientation  emoji count\n",
       "0           -2         4139\n",
       "1           -1         2010\n",
       "2            0          642\n",
       "3            2          520\n",
       "4            1          460"
      ]
     },
     "execution_count": 38,
     "metadata": {},
     "output_type": "execute_result"
    }
   ],
   "source": [
    "df.groupby([\"orientation\"])[\"emoji count\"].sum().sort_values(ascending=False).reset_index()"
   ]
  },
  {
   "cell_type": "markdown",
   "metadata": {},
   "source": [
    "#### Amount of Hashtags in Tweet"
   ]
  },
  {
   "cell_type": "markdown",
   "metadata": {},
   "source": [
    "Most Tweets don't contain hashtags (around 70%). Again when looking closer, Geert Wilders from the PVV uses a lot of hashtags. Also, in this case, it could be interesting to research if this might have to do with the PVV's populist rhetoric."
   ]
  },
  {
   "cell_type": "code",
   "execution_count": 39,
   "metadata": {},
   "outputs": [
    {
     "data": {
      "image/png": "[encoded data removed]",
      "text/plain": [
       "<Figure size 576x432 with 1 Axes>"
      ]
     },
     "metadata": {
      "needs_background": "light"
     },
     "output_type": "display_data"
    }
   ],
   "source": [
    "plt.figure(figsize=(8, 6))\n",
    "ax = sns.countplot(x=\"hashtag count\", data=df, palette=\"Blues\")\n",
    "plt.title(\"Distribution of hashtags over Tweets)\")\n",
    "plt.ylabel(\"Tweets\")\n",
    "plt.xlabel(\"Hashtags\")\n",
    "plt.show()"
   ]
  },
  {
   "cell_type": "code",
   "execution_count": 40,
   "metadata": {},
   "outputs": [
    {
     "data": {
      "text/html": [
       "<div>\n",
       "<style scoped>\n",
       "    .dataframe tbody tr th:only-of-type {\n",
       "        vertical-align: middle;\n",
       "    }\n",
       "\n",
       "    .dataframe tbody tr th {\n",
       "        vertical-align: top;\n",
       "    }\n",
       "\n",
       "    .dataframe thead th {\n",
       "        text-align: right;\n",
       "    }\n",
       "</style>\n",
       "<table border=\"1\" class=\"dataframe\">\n",
       "  <thead>\n",
       "    <tr style=\"text-align: right;\">\n",
       "      <th></th>\n",
       "      <th>hashtag count</th>\n",
       "    </tr>\n",
       "  </thead>\n",
       "  <tbody>\n",
       "    <tr>\n",
       "      <th>0</th>\n",
       "      <td>0.694017</td>\n",
       "    </tr>\n",
       "    <tr>\n",
       "      <th>1</th>\n",
       "      <td>0.191263</td>\n",
       "    </tr>\n",
       "    <tr>\n",
       "      <th>2</th>\n",
       "      <td>0.067569</td>\n",
       "    </tr>\n",
       "    <tr>\n",
       "      <th>3</th>\n",
       "      <td>0.027458</td>\n",
       "    </tr>\n",
       "    <tr>\n",
       "      <th>4</th>\n",
       "      <td>0.011687</td>\n",
       "    </tr>\n",
       "  </tbody>\n",
       "</table>\n",
       "</div>"
      ],
      "text/plain": [
       "   hashtag count\n",
       "0       0.694017\n",
       "1       0.191263\n",
       "2       0.067569\n",
       "3       0.027458\n",
       "4       0.011687"
      ]
     },
     "execution_count": 40,
     "metadata": {},
     "output_type": "execute_result"
    }
   ],
   "source": [
    "df[\"hashtag count\"].value_counts(normalize=True).nlargest(5).to_frame()"
   ]
  },
  {
   "cell_type": "code",
   "execution_count": 41,
   "metadata": {},
   "outputs": [
    {
     "data": {
      "text/html": [
       "<div>\n",
       "<style scoped>\n",
       "    .dataframe tbody tr th:only-of-type {\n",
       "        vertical-align: middle;\n",
       "    }\n",
       "\n",
       "    .dataframe tbody tr th {\n",
       "        vertical-align: top;\n",
       "    }\n",
       "\n",
       "    .dataframe thead th {\n",
       "        text-align: right;\n",
       "    }\n",
       "</style>\n",
       "<table border=\"1\" class=\"dataframe\">\n",
       "  <thead>\n",
       "    <tr style=\"text-align: right;\">\n",
       "      <th></th>\n",
       "      <th>name</th>\n",
       "      <th>party</th>\n",
       "      <th>orientation</th>\n",
       "      <th>date</th>\n",
       "      <th>hashtags</th>\n",
       "      <th>hashtag count</th>\n",
       "    </tr>\n",
       "  </thead>\n",
       "  <tbody>\n",
       "    <tr>\n",
       "      <th>462</th>\n",
       "      <td>Geert Wilders</td>\n",
       "      <td>PVV</td>\n",
       "      <td>1</td>\n",
       "      <td>2020-10-19</td>\n",
       "      <td>[#SamuelPaty, #muhammadcartoon, #MohammedCarto...</td>\n",
       "      <td>11</td>\n",
       "    </tr>\n",
       "    <tr>\n",
       "      <th>2686</th>\n",
       "      <td>Geert Wilders</td>\n",
       "      <td>PVV</td>\n",
       "      <td>1</td>\n",
       "      <td>2019-08-13</td>\n",
       "      <td>[#burqa, #nikab, #hijab, #AlQaeda, #Zawahiri, ...</td>\n",
       "      <td>11</td>\n",
       "    </tr>\n",
       "    <tr>\n",
       "      <th>2774</th>\n",
       "      <td>Geert Wilders</td>\n",
       "      <td>PVV</td>\n",
       "      <td>1</td>\n",
       "      <td>2019-07-20</td>\n",
       "      <td>[#terrorstates, #freedom, #islam, #RuleOfLaw, ...</td>\n",
       "      <td>11</td>\n",
       "    </tr>\n",
       "    <tr>\n",
       "      <th>753</th>\n",
       "      <td>Geert Wilders</td>\n",
       "      <td>PVV</td>\n",
       "      <td>1</td>\n",
       "      <td>2020-08-19</td>\n",
       "      <td>[#Covid_19, #Corona, #coronawet, #COVID19NL, #...</td>\n",
       "      <td>10</td>\n",
       "    </tr>\n",
       "    <tr>\n",
       "      <th>1578</th>\n",
       "      <td>Geert Wilders</td>\n",
       "      <td>PVV</td>\n",
       "      <td>1</td>\n",
       "      <td>2020-03-18</td>\n",
       "      <td>[#lockdown, #Coronavirusnl, #coronavirusNederl...</td>\n",
       "      <td>9</td>\n",
       "    </tr>\n",
       "    <tr>\n",
       "      <th>2383</th>\n",
       "      <td>Geert Wilders</td>\n",
       "      <td>PVV</td>\n",
       "      <td>1</td>\n",
       "      <td>2019-10-10</td>\n",
       "      <td>[#Turkije, #NAVO, #Turkey, #NATO, #ExpelTurkey...</td>\n",
       "      <td>9</td>\n",
       "    </tr>\n",
       "    <tr>\n",
       "      <th>103</th>\n",
       "      <td>Geert Wilders</td>\n",
       "      <td>PVV</td>\n",
       "      <td>1</td>\n",
       "      <td>2020-12-24</td>\n",
       "      <td>[#PVV, #Kerstvideo, #kerst, #kerst2020, #PVV, ...</td>\n",
       "      <td>8</td>\n",
       "    </tr>\n",
       "    <tr>\n",
       "      <th>269</th>\n",
       "      <td>Geert Wilders</td>\n",
       "      <td>PVV</td>\n",
       "      <td>1</td>\n",
       "      <td>2020-11-16</td>\n",
       "      <td>[#hongarije, #hungary, #Orban, #Nexit, #EU, #V...</td>\n",
       "      <td>8</td>\n",
       "    </tr>\n",
       "    <tr>\n",
       "      <th>471</th>\n",
       "      <td>Geert Wilders</td>\n",
       "      <td>PVV</td>\n",
       "      <td>1</td>\n",
       "      <td>2020-10-16</td>\n",
       "      <td>[#Paris, #ParisAttacks, #Cartoons, #Muhammad, ...</td>\n",
       "      <td>8</td>\n",
       "    </tr>\n",
       "    <tr>\n",
       "      <th>472</th>\n",
       "      <td>Geert Wilders</td>\n",
       "      <td>PVV</td>\n",
       "      <td>1</td>\n",
       "      <td>2020-10-16</td>\n",
       "      <td>[#Paris, #Mohammed, #muhammad, #cartoon, #neve...</td>\n",
       "      <td>8</td>\n",
       "    </tr>\n",
       "  </tbody>\n",
       "</table>\n",
       "</div>"
      ],
      "text/plain": [
       "               name party  orientation        date  \\\n",
       "462   Geert Wilders   PVV            1  2020-10-19   \n",
       "2686  Geert Wilders   PVV            1  2019-08-13   \n",
       "2774  Geert Wilders   PVV            1  2019-07-20   \n",
       "753   Geert Wilders   PVV            1  2020-08-19   \n",
       "1578  Geert Wilders   PVV            1  2020-03-18   \n",
       "2383  Geert Wilders   PVV            1  2019-10-10   \n",
       "103   Geert Wilders   PVV            1  2020-12-24   \n",
       "269   Geert Wilders   PVV            1  2020-11-16   \n",
       "471   Geert Wilders   PVV            1  2020-10-16   \n",
       "472   Geert Wilders   PVV            1  2020-10-16   \n",
       "\n",
       "                                               hashtags  hashtag count  \n",
       "462   [#SamuelPaty, #muhammadcartoon, #MohammedCarto...             11  \n",
       "2686  [#burqa, #nikab, #hijab, #AlQaeda, #Zawahiri, ...             11  \n",
       "2774  [#terrorstates, #freedom, #islam, #RuleOfLaw, ...             11  \n",
       "753   [#Covid_19, #Corona, #coronawet, #COVID19NL, #...             10  \n",
       "1578  [#lockdown, #Coronavirusnl, #coronavirusNederl...              9  \n",
       "2383  [#Turkije, #NAVO, #Turkey, #NATO, #ExpelTurkey...              9  \n",
       "103   [#PVV, #Kerstvideo, #kerst, #kerst2020, #PVV, ...              8  \n",
       "269   [#hongarije, #hungary, #Orban, #Nexit, #EU, #V...              8  \n",
       "471   [#Paris, #ParisAttacks, #Cartoons, #Muhammad, ...              8  \n",
       "472   [#Paris, #Mohammed, #muhammad, #cartoon, #neve...              8  "
      ]
     },
     "execution_count": 41,
     "metadata": {},
     "output_type": "execute_result"
    }
   ],
   "source": [
    "tableA = df[[\"name\", \"party\", \"orientation\", \"date\", \"hashtags\", \"hashtag count\"]]\n",
    "tableA = tableA[(tableA[\"hashtag count\"] > 0 )]\n",
    "tableA.sort_values(by=\"hashtag count\", ascending = False)\n",
    "tableA.nlargest(10, [\"hashtag count\"]) "
   ]
  },
  {
   "cell_type": "code",
   "execution_count": 42,
   "metadata": {},
   "outputs": [
    {
     "data": {
      "image/png": "[encoded data removed]",
      "text/plain": [
       "<Figure size 576x432 with 1 Axes>"
      ]
     },
     "metadata": {
      "needs_background": "light"
     },
     "output_type": "display_data"
    }
   ],
   "source": [
    "plt.figure(figsize=(8, 6))\n",
    "tablex = tableA[(tableA[\"hashtag count\"] > 0 )]\n",
    "ax = sns.violinplot(x=\"orientation\", y=\"hashtag count\", data=tablex, palette=\"Blues\")\n",
    "plt.title(\"Amount of Hashtags in Tweet (per orientation)\")\n",
    "plt.ylabel(\"Hashtags\")\n",
    "plt.xlabel(\"Orientation\")\n",
    "plt.show()"
   ]
  },
  {
   "cell_type": "markdown",
   "metadata": {},
   "source": [
    "## Building the Model"
   ]
  },
  {
   "cell_type": "markdown",
   "metadata": {},
   "source": [
    "For our analysis, we need to transform our text to be able to use it. A common approach for extracting features from text is to use the bag of words model. This model will consider the occurrence of words. The order in which they occur is disregarded (hence the idea of a bag). We will use CountVectorizer for this process. After that, we will create a document-feature matrix, with text (our Tweets) in rows, and features (words) in columns.\n",
    "\n",
    "#### Tweaking Countvectorizers' parameters\n",
    "\n",
    "1. Stop words: CountVectorizer counts the occurrence of each word in its assigned vocabulary. Stop words are a list of words we don't want to use as features because they are omnipresent words like 'the', 'and', etc. We will set the stop words parameter to 'Dutch' for this model. We can also add a custom list with stopwords to remove additional words.\n",
    "\n",
    "\n",
    "2. Max_df / Min_df: is used to remove terms that appear too frequently or too infrequently.  For example, max_df = 0.20 means \"ignore terms that appear in more than 20% of the text\" or  min_df = 10 means \"ignore terms that appear in less than 10 documents\". \n",
    "\n",
    "\n",
    "3. Max_features:  CountVectorizer will choose the words that occur most often the assigned vocabulary (for example, the 200 most used words) and discards all other words."
   ]
  },
  {
   "cell_type": "code",
   "execution_count": 43,
   "metadata": {},
   "outputs": [
    {
     "name": "stdout",
     "output_type": "stream",
     "text": [
      "There are 43054 words in the vocabulary. A selection: ['aanbieders', 'aanbieding', 'aanbiedingen', 'aanbiedingsspe', 'aanbiedingsspeech', 'aanbiedt', 'aanbinden', 'aanblik', 'aanbod', 'aanboort', 'aanbouw', 'aanbreken', 'aanbrengen', 'aandacht', 'aandachtig', 'aandachtishetni', 'aandachtvoorelkaar', 'aandee', 'aandeel', 'aandeelhoud', 'aandeelhouder', 'aandeelhouders', 'aandeelhoudersbelang', 'aandeelhouderskapatalisme', 'aandeelhouderskapitalisme', 'aandeelhoudersmacht', 'aandeelhoudersvergadering', 'aandelen', 'aandelenaankoop', 'aandeleninkoop']\n"
     ]
    }
   ],
   "source": [
    "# Set the Dutch stopword list\n",
    "final_stopwords_list = stopwords.words(\"dutch\")\n",
    "\n",
    "# Taking the text from the df. We need to convert it to Unicode\n",
    "text = df[\"clean text\"].values.astype('U') \n",
    "\n",
    "# Creates the CV object\n",
    "vect = CountVectorizer(stop_words=final_stopwords_list) \n",
    "\n",
    "# We fit the model with the cleaned tweets\n",
    "vect = vect.fit(text) # \n",
    "\n",
    "#Get the words from the vocabulary\n",
    "feature_names = vect.get_feature_names() \n",
    "\n",
    "print(f\"There are {len(feature_names)} words in the vocabulary. A selection: {feature_names[30:60]}\")"
   ]
  },
  {
   "cell_type": "code",
   "execution_count": 44,
   "metadata": {},
   "outputs": [],
   "source": [
    "# Make a matrix\n",
    "\n",
    "docu_feat = vect.transform(text) "
   ]
  },
  {
   "cell_type": "markdown",
   "metadata": {},
   "source": [
    "## Create the model"
   ]
  },
  {
   "cell_type": "markdown",
   "metadata": {},
   "source": [
    "The model we are going to use to classify the Tweets orientation is Naive Bayes. The algorithm allows us to predict a class, given a set of features using probability. The Naïve Bayes method oftentimes performs surprisingly strong in text classification tasks (Verhoeven, 2013, p. 9)."
   ]
  },
  {
   "cell_type": "code",
   "execution_count": 45,
   "metadata": {},
   "outputs": [],
   "source": [
    "# Create the model\n",
    "nb = MultinomialNB() \n",
    "\n",
    "# The document-feature matrix is the X matrix\n",
    "X = docu_feat \n",
    "\n",
    "# Creating the y vector\n",
    "y = df[\"orientation\"] \n",
    "\n",
    "# Split the data into a train and test set and store it\n",
    "X_train, X_test, y_train, y_test = train_test_split(X, y, test_size=0.3) \n",
    "\n",
    "# Fit the model \n",
    "nb = nb.fit(X_train, y_train) "
   ]
  },
  {
   "cell_type": "markdown",
   "metadata": {},
   "source": [
    "## Evaluating the Model"
   ]
  },
  {
   "cell_type": "markdown",
   "metadata": {},
   "source": [
    "To check how our model performed, we will evaluate the model using measures of accuracy, a confusion matrix and a classification report containing precision and recall."
   ]
  },
  {
   "cell_type": "code",
   "execution_count": 46,
   "metadata": {},
   "outputs": [
    {
     "data": {
      "text/plain": [
       "0.6509357929614041"
      ]
     },
     "execution_count": 46,
     "metadata": {},
     "output_type": "execute_result"
    }
   ],
   "source": [
    "# Evaluate the model\n",
    "\n",
    "y_test_p = nb.predict(X_test)\n",
    "nb.score(X_test, y_test)"
   ]
  },
  {
   "cell_type": "markdown",
   "metadata": {},
   "source": [
    "#### Accuracy\n",
    "\n",
    "The accuracy score reflects the overall accuracy of our model. In our case, the percentage of Tweets correctly classified by our model is 66%. This score is not great, but significantly higher than if we would consequently guess the class -1 (our largest class, please see table below).  Also, with imbalanced classes (as we concluded earlier in our exploratory data analysis), it is easier to get a higher accuracy simply because the number of cases in a certain class is more extensive. "
   ]
  },
  {
   "cell_type": "code",
   "execution_count": 47,
   "metadata": {},
   "outputs": [
    {
     "data": {
      "text/plain": [
       "-1    0.337041\n",
       " 2    0.172376\n",
       " 1    0.172322\n",
       "-2    0.172241\n",
       " 0    0.146020\n",
       "Name: orientation, dtype: float64"
      ]
     },
     "execution_count": 47,
     "metadata": {},
     "output_type": "execute_result"
    }
   ],
   "source": [
    "df[\"orientation\"].value_counts(normalize=True) # check percentage of data per class"
   ]
  },
  {
   "cell_type": "code",
   "execution_count": 48,
   "metadata": {},
   "outputs": [
    {
     "data": {
      "text/plain": [
       "array([-2, -1,  0,  1,  2])"
      ]
     },
     "execution_count": 48,
     "metadata": {},
     "output_type": "execute_result"
    }
   ],
   "source": [
    "nb.classes_ # check the order of the arrays"
   ]
  },
  {
   "cell_type": "code",
   "execution_count": 49,
   "metadata": {},
   "outputs": [
    {
     "data": {
      "text/html": [
       "<div>\n",
       "<style scoped>\n",
       "    .dataframe tbody tr th:only-of-type {\n",
       "        vertical-align: middle;\n",
       "    }\n",
       "\n",
       "    .dataframe tbody tr th {\n",
       "        vertical-align: top;\n",
       "    }\n",
       "\n",
       "    .dataframe thead th {\n",
       "        text-align: right;\n",
       "    }\n",
       "</style>\n",
       "<table border=\"1\" class=\"dataframe\">\n",
       "  <thead>\n",
       "    <tr style=\"text-align: right;\">\n",
       "      <th></th>\n",
       "      <th>-2 pred</th>\n",
       "      <th>-1 pred</th>\n",
       "      <th>0 pred</th>\n",
       "      <th>1 pred</th>\n",
       "      <th>2 pred</th>\n",
       "    </tr>\n",
       "  </thead>\n",
       "  <tbody>\n",
       "    <tr>\n",
       "      <th>-2</th>\n",
       "      <td>1124</td>\n",
       "      <td>634</td>\n",
       "      <td>68</td>\n",
       "      <td>37</td>\n",
       "      <td>43</td>\n",
       "    </tr>\n",
       "    <tr>\n",
       "      <th>-1</th>\n",
       "      <td>295</td>\n",
       "      <td>3031</td>\n",
       "      <td>158</td>\n",
       "      <td>172</td>\n",
       "      <td>135</td>\n",
       "    </tr>\n",
       "    <tr>\n",
       "      <th>0</th>\n",
       "      <td>115</td>\n",
       "      <td>550</td>\n",
       "      <td>772</td>\n",
       "      <td>65</td>\n",
       "      <td>122</td>\n",
       "    </tr>\n",
       "    <tr>\n",
       "      <th>1</th>\n",
       "      <td>111</td>\n",
       "      <td>441</td>\n",
       "      <td>105</td>\n",
       "      <td>1159</td>\n",
       "      <td>98</td>\n",
       "    </tr>\n",
       "    <tr>\n",
       "      <th>2</th>\n",
       "      <td>107</td>\n",
       "      <td>445</td>\n",
       "      <td>110</td>\n",
       "      <td>87</td>\n",
       "      <td>1183</td>\n",
       "    </tr>\n",
       "  </tbody>\n",
       "</table>\n",
       "</div>"
      ],
      "text/plain": [
       "    -2 pred  -1 pred  0 pred  1 pred  2 pred\n",
       "-2     1124      634      68      37      43\n",
       "-1      295     3031     158     172     135\n",
       "0       115      550     772      65     122\n",
       "1       111      441     105    1159      98\n",
       "2       107      445     110      87    1183"
      ]
     },
     "execution_count": 49,
     "metadata": {},
     "output_type": "execute_result"
    }
   ],
   "source": [
    "cm = confusion_matrix(y_test, y_test_p)\n",
    "cm = pd.DataFrame(cm, index=['-2', '-1', '0', '1', '2'], columns=['-2 pred', '-1 pred', '0 pred', '1 pred', '2 pred'])\n",
    "cm"
   ]
  },
  {
   "cell_type": "markdown",
   "metadata": {},
   "source": [
    "#### Confusion matrix\n",
    "\n",
    "- The model predicted 1169 labels correctly as -2 (positive) and 8647 classes correctly as not -2 (negative).\n",
    "\n",
    "- The model predicted 624 labels as negatives (not -2), but they were actually positive (they were -2) (false positives) and 727 labels were predicted as positives (-2) even though they are negatives (not -2) (false negatives).\n",
    "\n"
   ]
  },
  {
   "cell_type": "code",
   "execution_count": 50,
   "metadata": {},
   "outputs": [
    {
     "name": "stdout",
     "output_type": "stream",
     "text": [
      "              precision    recall  f1-score   support\n",
      "\n",
      "          -2       0.64      0.59      0.61      1906\n",
      "          -1       0.59      0.80      0.68      3791\n",
      "           0       0.64      0.48      0.54      1624\n",
      "           1       0.76      0.61      0.68      1914\n",
      "           2       0.75      0.61      0.67      1932\n",
      "\n",
      "    accuracy                           0.65     11167\n",
      "   macro avg       0.68      0.62      0.64     11167\n",
      "weighted avg       0.66      0.65      0.65     11167\n",
      "\n"
     ]
    }
   ],
   "source": [
    "from sklearn.metrics import classification_report\n",
    "print(classification_report(y_test, y_test_p))"
   ]
  },
  {
   "cell_type": "markdown",
   "metadata": {},
   "source": [
    "#### Precision and recall\n",
    "\n",
    "- Precision: the higest prediction for class 1 and the lowest for class -1. This number tells us what proportion of the labels were predicted correctly out of the total predictions for that class. As an example: Precision tells us what proportion of messages a model classified as spam, actually were spam. Class 1 is the class PVV, Geert Wilder is in. As we can see in our exploratory data analysis, his communication style is quite distinct in terms of topics.\n",
    "\n",
    "- Recall: the higest prediction for class -1 and the lowest for class 0. This is the number of correct predictions out of true labels for that class. For example, recall(sensitivity) tells us what proportion of messages that actually were spam were classified by a model as spam. Could it be that class 0 (Centre) is not very distinguishable? It would indeed suit a centre orientation."
   ]
  },
  {
   "cell_type": "markdown",
   "metadata": {},
   "source": [
    "#### Check some predictions"
   ]
  },
  {
   "cell_type": "code",
   "execution_count": 51,
   "metadata": {},
   "outputs": [
    {
     "name": "stdout",
     "output_type": "stream",
     "text": [
      "\"Dat helpt de samenleving, dat helpt de politiek en het inspireert om steeds weer op te komen, aandacht te hebben voor \n",
      "[[3.92619081e-04 5.24586797e-01 2.24619385e-01 1.92944619e-01\n",
      "  5.74565793e-02]]\n"
     ]
    }
   ],
   "source": [
    "print(df.iloc[11,7])\n",
    "print(nb.predict_proba(X[0]))"
   ]
  },
  {
   "cell_type": "code",
   "execution_count": 52,
   "metadata": {},
   "outputs": [
    {
     "name": "stdout",
     "output_type": "stream",
     "text": [
      "Namens  feliciteer ik het  van harte! Wat mooi dat jullie deze week voor de e keer op rij tot de beste ROC van Nederland zijn verkozen. \n",
      "[[3.92619081e-04 5.24586797e-01 2.24619385e-01 1.92944619e-01\n",
      "  5.74565793e-02]]\n"
     ]
    }
   ],
   "source": [
    "print(df.iloc[0,7])\n",
    "print(nb.predict_proba(X[0]))"
   ]
  },
  {
   "cell_type": "code",
   "execution_count": 53,
   "metadata": {},
   "outputs": [
    {
     "name": "stdout",
     "output_type": "stream",
     "text": [
      " Dank!!\n",
      "[[3.92619081e-04 5.24586797e-01 2.24619385e-01 1.92944619e-01\n",
      "  5.74565793e-02]]\n"
     ]
    }
   ],
   "source": [
    "print(df.iloc[1300,7])\n",
    "print(nb.predict_proba(X[0]))"
   ]
  },
  {
   "cell_type": "code",
   "execution_count": 54,
   "metadata": {},
   "outputs": [
    {
     "name": "stdout",
     "output_type": "stream",
     "text": [
      "Belangrijk dat pervers systeem steunverlening aan palestijnse gevangenen stopt. Hard nodig dat internationale druk verder wordt opgevoerd.\n",
      "[[3.92619081e-04 5.24586797e-01 2.24619385e-01 1.92944619e-01\n",
      "  5.74565793e-02]]\n"
     ]
    }
   ],
   "source": [
    "print(df.iloc[3000,7])\n",
    "print(nb.predict_proba(X[0]))"
   ]
  },
  {
   "cell_type": "markdown",
   "metadata": {},
   "source": [
    "## Improvement"
   ]
  },
  {
   "cell_type": "markdown",
   "metadata": {},
   "source": [
    "Let's try to improve by adding the amount of emoji's used as a variable to our model."
   ]
  },
  {
   "cell_type": "code",
   "execution_count": 55,
   "metadata": {},
   "outputs": [
    {
     "name": "stdout",
     "output_type": "stream",
     "text": [
      "There are 43054 words in the vocabulary. A selection: ['aanbieders', 'aanbieding', 'aanbiedingen', 'aanbiedingsspe', 'aanbiedingsspeech', 'aanbiedt', 'aanbinden', 'aanblik', 'aanbod', 'aanboort', 'aanbouw', 'aanbreken', 'aanbrengen', 'aandacht', 'aandachtig', 'aandachtishetni', 'aandachtvoorelkaar', 'aandee', 'aandeel', 'aandeelhoud', 'aandeelhouder', 'aandeelhouders', 'aandeelhoudersbelang', 'aandeelhouderskapatalisme', 'aandeelhouderskapitalisme', 'aandeelhoudersmacht', 'aandeelhoudersvergadering', 'aandelen', 'aandelenaankoop', 'aandeleninkoop']\n"
     ]
    }
   ],
   "source": [
    "# Set the Dutch stopword list\n",
    "final_stopwords_list = stopwords.words(\"dutch\")\n",
    "\n",
    "# Taking the text from the df. We need to convert it to Unicode\n",
    "text = df[\"clean text\"].values.astype('U') \n",
    "\n",
    "# Creates the CV object\n",
    "vect = CountVectorizer(stop_words=final_stopwords_list) \n",
    "\n",
    "# We fit the model with the cleaned tweets\n",
    "vect = vect.fit(text) # \n",
    "\n",
    "#Get the words from the vocabulary\n",
    "feature_names = vect.get_feature_names() \n",
    "\n",
    "print(f\"There are {len(feature_names)} words in the vocabulary. A selection: {feature_names[30:60]}\")"
   ]
  },
  {
   "cell_type": "code",
   "execution_count": 56,
   "metadata": {},
   "outputs": [],
   "source": [
    "# Create the model\n",
    "nb = MultinomialNB() \n",
    "\n",
    "# The document-feature matrix is the X matrix\n",
    "X_plus = np.c_[X.toarray(), df[\"emoji count\"]] #X.toarray() converts the sparse array to a normal array. This takes up somewhat more memory. However, not as much as making it into a dataframe. Then np.c_ concatenates the columns.\n",
    "\n",
    "# Creating the y vector\n",
    "y = df[\"orientation\"] \n",
    "\n",
    "# Split the data into a train and test set and store it\n",
    "X_train_plus, X_test_plus, y_train_plus, y_test_plus = train_test_split(X_plus, y, test_size=0.3) #split the data and store it\n",
    "\n",
    "# Fit the model \n",
    "nb = nb.fit(X_train, y_train) "
   ]
  },
  {
   "cell_type": "code",
   "execution_count": 57,
   "metadata": {},
   "outputs": [
    {
     "data": {
      "text/plain": [
       "0.6563087669024805"
      ]
     },
     "execution_count": 57,
     "metadata": {},
     "output_type": "execute_result"
    }
   ],
   "source": [
    "#Naive Bayes\n",
    "nb = MultinomialNB() #create the model\n",
    "nb = nb.fit(X_train_plus, y_train_plus) #fit the model X=features, y=character\n",
    "nb_score = nb.score(X_test_plus, y_test_plus)\n",
    "nb_score"
   ]
  },
  {
   "cell_type": "markdown",
   "metadata": {},
   "source": [
    "It seems the model did get improved by our efforts, although only the slightest bit. Room voor more tweaking in a follow-up investigation! Let's conclude with the words that carry the greatest predictable value."
   ]
  },
  {
   "cell_type": "markdown",
   "metadata": {},
   "source": [
    "#### Words with greatest predicable values"
   ]
  },
  {
   "cell_type": "markdown",
   "metadata": {},
   "source": [
    "Very, very unfortunatly the code to view the words with the greatest predicable value broke in this notebook. My technical abilities are not sufficient enough to solve the error. Therefore I copy the predicted values from another notebook in which it did work. "
   ]
  },
  {
   "cell_type": "markdown",
   "metadata": {},
   "source": [
    "####  class -2"
   ]
  },
  {
   "cell_type": "code",
   "execution_count": 58,
   "metadata": {},
   "outputs": [],
   "source": [
    "#we        -4.759082\n",
    "#dieren    -5.525712\n",
    "#mensen    -5.569141\n",
    "#onze      -5.647880\n",
    "#kabinet   -5.896776\n",
    "#moeten    -5.937447\n",
    "#sp        -5.945022\n",
    "#kamer     -6.024115\n",
    "#goed      -6.032379\n",
    "#vandaag   -6.036537\n",
    "#Name: 0, dtype: float64"
   ]
  },
  {
   "cell_type": "markdown",
   "metadata": {},
   "source": [
    "#### class -1"
   ]
  },
  {
   "cell_type": "code",
   "execution_count": 59,
   "metadata": {},
   "outputs": [],
   "source": [
    "#we        -4.857875\n",
    "#anbo      -5.067182\n",
    "#ouderen   -5.581406\n",
    "#mensen    -5.609456\n",
    "#onze      -5.629346\n",
    "#kabinet   -5.820636\n",
    "#vandaag   -5.870508\n",
    "#goed      -5.953396\n",
    "#wel       -6.047164\n",
    "#gaat      -6.106518\n",
    "#Name: 1, dtype: float64"
   ]
  },
  {
   "cell_type": "markdown",
   "metadata": {},
   "source": [
    "#### class 0"
   ]
  },
  {
   "cell_type": "code",
   "execution_count": 60,
   "metadata": {},
   "outputs": [],
   "source": [
    "#we        -4.815676\n",
    "#the       -5.115273\n",
    "#and       -5.483759\n",
    "#to        -5.503760\n",
    "#vandaag   -5.808420\n",
    "#onze      -5.846819\n",
    "#goed      -5.951784\n",
    "#mensen    -6.109896\n",
    "#for       -6.162164\n",
    "#jaar      -6.286677\n",
    "#Name: 2, dtype: float64"
   ]
  },
  {
   "cell_type": "markdown",
   "metadata": {},
   "source": [
    "#### class 1"
   ]
  },
  {
   "cell_type": "code",
   "execution_count": 61,
   "metadata": {},
   "outputs": [],
   "source": [
    "#wilders     -4.883329\n",
    "#pvv         -4.957009\n",
    "#sgp         -5.273590\n",
    "#nederland   -5.478385\n",
    "#we          -5.480913\n",
    "#onze        -5.832178\n",
    "#rutte       -5.839398\n",
    "#the         -6.017381\n",
    "#corona      -6.075304\n",
    "#mensen      -6.079902\n",
    "#Name: 3, dtype: float64"
   ]
  },
  {
   "cell_type": "markdown",
   "metadata": {},
   "source": [
    "#### class 2"
   ]
  },
  {
   "cell_type": "code",
   "execution_count": 62,
   "metadata": {},
   "outputs": [],
   "source": [
    "#we                -4.923318\n",
    "#fvd               -5.135986\n",
    "#the               -5.141041\n",
    "#via               -5.342463\n",
    "#live              -5.535586\n",
    "#rutte             -5.563542\n",
    "#nederland         -5.707437\n",
    "#persconferentie   -5.722429\n",
    "#ministerraad      -5.762496\n",
    "#onze              -5.824104\n",
    "#Name: 4, dtype: float64"
   ]
  },
  {
   "cell_type": "markdown",
   "metadata": {},
   "source": [
    "## Conclusion\n",
    "\n",
    "To get back to our research question: can political orientation be detected in Tweets? In regards to this study, we can say that to some degree the one political orientation can be distinguished from the other, at least in the a dataset of Tweets from politicians. The politicians of different classes use different words. Mainly because they engage in different kind topics, for example, Islam related Tweets mostly come from Wilders , PVVV / class 1 and Tweets in regards to animals come from Esther Ouwehand, PvdD / class -2.  \n",
    "\n",
    "A lot of research is being done on the terrain of political sciences and the use of Twitter. An example is a recent paper on extreme right-wing populism: *Trend towards extreme right-wing populism on Twitter. An analysis of the influence on leaders, media and users* (Pérez-Curiel, 2020).\n",
    "\n",
    "In regards to the model, it could be used to predict the political alignment of users (as a representation of society) or to examine the online rhetorics of politicians and the difference within the political spectrum.\n",
    "\n",
    "When it comes to optimizing the model there is still a lot to gain. We could add more words to the stop words. Or for example, in stemming and lemmatization, both ways of analyzing words in a corpus based on their roots. When this research was conducted these libraries where not yet available for the Dutch language (at least not un a form this researcher is able to use). Other ideas could be the extracting of information on the URLs tweeted. Since Twitter shortens, URLs information about the context is lost there (Fernandes de Mello Araújo & Ebbelaar, 2018, pp. 1–3). Last but not least, emojis could also be used, as characters, not as counted amounts. The same goes for hashtags. \n"
   ]
  },
  {
   "cell_type": "markdown",
   "metadata": {},
   "source": [
    "## Appendix - Emoji Shallow Deep Dive"
   ]
  },
  {
   "cell_type": "markdown",
   "metadata": {},
   "source": [
    "Next to the emoji count, it could also be fascinating to use emojis in our model. There are ways to this, for example, to use the textual representation of the emoji. For now, we just satisfy our curiosity with a simple overview of the most used emojis in Dutch politics.\n",
    "\n",
    "The following code is originally created by Krzemińska, 2020."
   ]
  },
  {
   "cell_type": "code",
   "execution_count": 63,
   "metadata": {},
   "outputs": [],
   "source": [
    "def emoji_count(character):\n",
    "    return character in emoji.UNICODE_EMOJI\n",
    "\n",
    "# Function to count emojis\n",
    "def emoji_counter(text):\n",
    "    count = 0\n",
    "    for character in text:\n",
    "        x = emoji_count(character)\n",
    "        if x == True:\n",
    "            count += 1\n",
    "    return count"
   ]
  },
  {
   "cell_type": "code",
   "execution_count": 64,
   "metadata": {},
   "outputs": [],
   "source": [
    "# create a corpus\n",
    "\n",
    "words_filtered = []\n",
    "\n",
    "for row in df[\"text\"]:\n",
    "    for w in row:\n",
    "        if w not in final_stopwords_list:\n",
    "            words_filtered.append(w)\n",
    "            \n",
    "count = Counter(words_filtered)\n",
    "\n",
    "# turn counter into a dictionary\n",
    "dictionary = dict(count)\n",
    "\n",
    "# list all emojis found in the counter\n",
    "emoji_list = []\n",
    "\n",
    "for item in dictionary:\n",
    "    if emoji_count(item):\n",
    "        emoji_list.append(item)\n",
    "        \n",
    "# dictionary for the frequency of emojis\n",
    "dictionary_emoji = {}\n",
    "\n",
    "for emoji in dictionary:\n",
    "    frequency = count[emoji]\n",
    "    if emoji in emoji_list:\n",
    "        dictionary_emoji[emoji] = frequency"
   ]
  },
  {
   "cell_type": "code",
   "execution_count": 65,
   "metadata": {},
   "outputs": [
    {
     "name": "stdout",
     "output_type": "stream",
     "text": [
      "There are 430 different emojis used in the Tweets.\n"
     ]
    }
   ],
   "source": [
    "# sort the emoji by frequency\n",
    "\n",
    "sorted_emojis = {key: value for key, value in sorted(dictionary_emoji.items(), key=lambda item: item[1], reverse=True)}\n",
    "print(f\"There are {len(emoji_list)} different emojis used in the Tweets.\")"
   ]
  },
  {
   "cell_type": "code",
   "execution_count": 66,
   "metadata": {},
   "outputs": [
    {
     "name": "stdout",
     "output_type": "stream",
     "text": [
      "[('👇', 1067), ('🏼', 390), ('👉', 349), ('💪', 334), ('❤', 319), ('😉', 306), ('🌱', 261), ('💚', 216), ('🙏', 214), ('🏻', 203), ('🔥', 181), ('🌳', 154), ('🙌', 143), ('🐮', 126), ('🖤', 120), ('🌍', 119), ('🏽', 117), ('✅', 103), ('👍', 103), ('✊', 81), ('😊', 79), ('⬇', 78), ('🇱', 74), ('😂', 74), ('🇳', 70), ('😃', 70), ('🎉', 58), ('❌', 53), ('☺', 50), ('😘', 50), ('👏', 49), ('😁', 49), ('➡', 48), ('⤵', 46), ('👊', 43), ('🌹', 41), ('✌', 36), ('💔', 35), ('🐷', 30), ('🎂', 29), ('😢', 28), ('♀', 27), ('🤣', 27), ('🇪', 27), ('😍', 26), ('🇺', 23), ('😀', 23), ('🥇', 23), ('👌', 23), ('🍅', 22)]\n",
      "These are the 50 most used emojis:\n"
     ]
    }
   ],
   "source": [
    "# print the top 50 most used emojis\n",
    "\n",
    "top_50 = sorted_emojis.items()\n",
    "top = list(top_50)[:50]\n",
    "print(top)\n",
    "\n",
    "print(f\"These are the 50 most used emojis:\")"
   ]
  },
  {
   "cell_type": "markdown",
   "metadata": {},
   "source": [
    "While most of the used emojis are pretty self explanatory (even without the context, we understand how they are used) some emojis deserve a little explanation. For example:\n",
    "\n",
    "🏼🏻🏽 are part of an Emoji ZWJ Sequence, a combination of multiple emojis which display as a single emoji on supported platforms (Burge, 2016).\n",
    "\n",
    "🇱 🇳 🇪 🇺are a Regional Indicator Symbol Letter. Combinations of those letters dislplay as a flag. For example: the Dutch flag consists out of 🇳 Regional Indicator Symbol Letter N and 🇱 Regional Indicator Symbol Letter L. To display the EU flag 🇪and 🇺are being used."
   ]
  },
  {
   "cell_type": "markdown",
   "metadata": {},
   "source": [
    "## References"
   ]
  },
  {
   "cell_type": "markdown",
   "metadata": {},
   "source": [
    "Gruzd, A., & Roy, J. (2014). *Investigating Political Polarization on Twitter: A Canadian Perspective. Policy & Internet, 6(1), 28–29*. https://doi.org/10.1002/1944-2866.poi354\n",
    "\n",
    "Preoţiuc-Pietro, D., Liu, Y., Hopkins, D., & Ungar, L. (2017). *Beyond Binary Labels: Political Ideology Prediction of Twitter Users. Proceedings of the 55th Annual Meeting of the Association for Computational Linguistics (Volume 1: Long Papers), 729.* https://doi.org/10.18653/v1/p17-1068\n",
    "\n",
    "Yap, B. W., Rani, K. A., Rahman, H. A. A., Fong, S., Khairudin, Z., & Abdullah, N. N. (2013). *An Application of Oversampling, Undersampling, Bagging and Boosting in Handling Imbalanced Datasets. Lecture Notes in Electrical Engineering, 13–22*. https://doi.org/10.1007/978-981-4585-18-7_2\n",
    "\n",
    "\n",
    "LEE, M., KIM, H., & KIM, O. (2015). *WHY DO PEOPLE RETWEET A TWEET?: ALTRUISTIC, EGOISTIC, AND RECIPROCITY MOTIVATIONS FOR RETWEETING. PSYCHOLOGIA, 58(4), 189–201.* https://doi.org/10.2117/psysoc.2015.189\n",
    "\n",
    "NOS. (2020, December 8). *Overlijdensbericht Chadwick Boseman meest gedeelde tweet in 2020.* https://nos.nl/artikel/2359736-overlijdensbericht-chadwick-boseman-meest-gedeelde-tweet-in-2020.html\n",
    "\n",
    "Pérez-Curiel, C. (2020). *Trend towards extreme right-wing populism on Twitter. An analysis of the influence on leaders, media and users. Communication & Society, 33(2), 175–192.* https://doi.org/10.15581/003.33.2.175-192\n",
    "\n",
    "Krzemińska, M. (2020, September 28). *Does Emoji Use Correlate With Twitter Engagement?* Medium. https://medium.com/swlh/%EF%B8%8Fdoes-emoji-use-correlate-with-twitter-engagement-388775467be\n",
    "\n",
    "\n",
    "Burge, J. (2016, July 12). *Emoji ZWJ Sequences: Three Letters, Many Possibilities.* Emojipedia.\n",
    "https://blog.emojipedia.org/emoji-zwj-sequences-three-letters-many-possibilities/\n",
    "\n",
    "\n",
    "Gruzd, A., & Roy, J. (2014). *Investigating Political Polarization on Twitter: A Canadian Perspective. Policy & Internet, 6(1), 28–29*. https://doi.org/10.1002/1944-2866.poi354\n"
   ]
  }
 ],
 "metadata": {
  "kernelspec": {
   "display_name": "Python 3",
   "language": "python",
   "name": "python3"
  },
  "language_info": {
   "codemirror_mode": {
    "name": "ipython",
    "version": 3
   },
   "file_extension": ".py",
   "mimetype": "text/x-python",
   "name": "python",
   "nbconvert_exporter": "python",
   "pygments_lexer": "ipython3",
   "version": "3.8.5"
  }
 },
 "nbformat": 4,
 "nbformat_minor": 4
}
